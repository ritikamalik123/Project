{
 "cells": [
  {
   "cell_type": "code",
   "execution_count": 1,
   "id": "fca050f3",
   "metadata": {
    "_cell_guid": "b1076dfc-b9ad-4769-8c92-a6c4dae69d19",
    "_uuid": "8f2839f25d086af736a60e9eeb907d3b93b6e0e5",
    "execution": {
     "iopub.execute_input": "2023-05-16T11:26:36.786137Z",
     "iopub.status.busy": "2023-05-16T11:26:36.785310Z",
     "iopub.status.idle": "2023-05-16T11:26:36.807942Z",
     "shell.execute_reply": "2023-05-16T11:26:36.806380Z"
    },
    "papermill": {
     "duration": 0.058481,
     "end_time": "2023-05-16T11:26:36.811029",
     "exception": false,
     "start_time": "2023-05-16T11:26:36.752548",
     "status": "completed"
    },
    "tags": []
   },
   "outputs": [
    {
     "name": "stdout",
     "output_type": "stream",
     "text": [
      "/kaggle/input/hotel-booking-demand/hotel_bookings.csv\n"
     ]
    }
   ],
   "source": [
    "# This Python 3 environment comes with many helpful analytics libraries installed\n",
    "# It is defined by the kaggle/python Docker image: https://github.com/kaggle/docker-python\n",
    "# For example, here's several helpful packages to load\n",
    "\n",
    "import numpy as np # linear algebra\n",
    "import pandas as pd # data processing, CSV file I/O (e.g. pd.read_csv)\n",
    "\n",
    "# Input data files are available in the read-only \"../input/\" directory\n",
    "# For example, running this (by clicking run or pressing Shift+Enter) will list all files under the input directory\n",
    "\n",
    "import os\n",
    "for dirname, _, filenames in os.walk('/kaggle/input'):\n",
    "    for filename in filenames:\n",
    "        print(os.path.join(dirname, filename))\n",
    "\n",
    "# You can write up to 20GB to the current directory (/kaggle/working/) that gets preserved as output when you create a version using \"Save & Run All\" \n",
    "# You can also write temporary files to /kaggle/temp/, but they won't be saved outside of the current session"
   ]
  },
  {
   "cell_type": "markdown",
   "id": "dd8f2420",
   "metadata": {
    "papermill": {
     "duration": 0.026098,
     "end_time": "2023-05-16T11:26:36.864477",
     "exception": false,
     "start_time": "2023-05-16T11:26:36.838379",
     "status": "completed"
    },
    "tags": []
   },
   "source": [
    "##                                  ***Hotel booking***"
   ]
  },
  {
   "cell_type": "markdown",
   "id": "e188d6e2",
   "metadata": {
    "papermill": {
     "duration": 0.025735,
     "end_time": "2023-05-16T11:26:36.918178",
     "exception": false,
     "start_time": "2023-05-16T11:26:36.892443",
     "status": "completed"
    },
    "tags": []
   },
   "source": [
    "## Workflow :"
   ]
  },
  {
   "cell_type": "markdown",
   "id": "6c097e5c",
   "metadata": {
    "papermill": {
     "duration": 0.027098,
     "end_time": "2023-05-16T11:26:36.971831",
     "exception": false,
     "start_time": "2023-05-16T11:26:36.944733",
     "status": "completed"
    },
    "tags": []
   },
   "source": [
    "* Understanding the data\n",
    "* Data Cleaning\n",
    "* Exploratory Data Analysis\n",
    "* Insights"
   ]
  },
  {
   "cell_type": "markdown",
   "id": "a6416947",
   "metadata": {
    "papermill": {
     "duration": 0.028027,
     "end_time": "2023-05-16T11:26:37.026993",
     "exception": false,
     "start_time": "2023-05-16T11:26:36.998966",
     "status": "completed"
    },
    "tags": []
   },
   "source": [
    "## Importing libraries"
   ]
  },
  {
   "cell_type": "code",
   "execution_count": 2,
   "id": "c23f2536",
   "metadata": {
    "execution": {
     "iopub.execute_input": "2023-05-16T11:26:37.081934Z",
     "iopub.status.busy": "2023-05-16T11:26:37.081477Z",
     "iopub.status.idle": "2023-05-16T11:26:38.520616Z",
     "shell.execute_reply": "2023-05-16T11:26:38.519304Z"
    },
    "papermill": {
     "duration": 1.470981,
     "end_time": "2023-05-16T11:26:38.524077",
     "exception": false,
     "start_time": "2023-05-16T11:26:37.053096",
     "status": "completed"
    },
    "tags": []
   },
   "outputs": [],
   "source": [
    "import numpy as np\n",
    "import pandas as pd \n",
    "import matplotlib.pyplot as plt\n",
    "import seaborn as sns\n",
    "\n",
    "import warnings\n",
    "warnings.filterwarnings(\"ignore\")"
   ]
  },
  {
   "cell_type": "markdown",
   "id": "182885c0",
   "metadata": {
    "papermill": {
     "duration": 0.025741,
     "end_time": "2023-05-16T11:26:38.577176",
     "exception": false,
     "start_time": "2023-05-16T11:26:38.551435",
     "status": "completed"
    },
    "tags": []
   },
   "source": [
    "## Reading Data"
   ]
  },
  {
   "cell_type": "code",
   "execution_count": 3,
   "id": "9cc7073b",
   "metadata": {
    "execution": {
     "iopub.execute_input": "2023-05-16T11:26:38.632892Z",
     "iopub.status.busy": "2023-05-16T11:26:38.632347Z",
     "iopub.status.idle": "2023-05-16T11:26:39.336492Z",
     "shell.execute_reply": "2023-05-16T11:26:39.335473Z"
    },
    "papermill": {
     "duration": 0.735301,
     "end_time": "2023-05-16T11:26:39.339475",
     "exception": false,
     "start_time": "2023-05-16T11:26:38.604174",
     "status": "completed"
    },
    "tags": []
   },
   "outputs": [],
   "source": [
    "df=pd.read_csv(\"/kaggle/input/hotel-booking-demand/hotel_bookings.csv\")"
   ]
  },
  {
   "cell_type": "markdown",
   "id": "ae8e7ac5",
   "metadata": {
    "papermill": {
     "duration": 0.027846,
     "end_time": "2023-05-16T11:26:39.394645",
     "exception": false,
     "start_time": "2023-05-16T11:26:39.366799",
     "status": "completed"
    },
    "tags": []
   },
   "source": [
    "## Viewing Data"
   ]
  },
  {
   "cell_type": "code",
   "execution_count": 4,
   "id": "57babbb9",
   "metadata": {
    "execution": {
     "iopub.execute_input": "2023-05-16T11:26:39.454364Z",
     "iopub.status.busy": "2023-05-16T11:26:39.453339Z",
     "iopub.status.idle": "2023-05-16T11:26:39.492569Z",
     "shell.execute_reply": "2023-05-16T11:26:39.491106Z"
    },
    "papermill": {
     "duration": 0.072252,
     "end_time": "2023-05-16T11:26:39.495509",
     "exception": false,
     "start_time": "2023-05-16T11:26:39.423257",
     "status": "completed"
    },
    "tags": []
   },
   "outputs": [
    {
     "data": {
      "text/html": [
       "<div>\n",
       "<style scoped>\n",
       "    .dataframe tbody tr th:only-of-type {\n",
       "        vertical-align: middle;\n",
       "    }\n",
       "\n",
       "    .dataframe tbody tr th {\n",
       "        vertical-align: top;\n",
       "    }\n",
       "\n",
       "    .dataframe thead th {\n",
       "        text-align: right;\n",
       "    }\n",
       "</style>\n",
       "<table border=\"1\" class=\"dataframe\">\n",
       "  <thead>\n",
       "    <tr style=\"text-align: right;\">\n",
       "      <th></th>\n",
       "      <th>distribution_channel</th>\n",
       "      <th>is_repeated_guest</th>\n",
       "      <th>previous_cancellations</th>\n",
       "      <th>previous_bookings_not_canceled</th>\n",
       "      <th>reserved_room_type</th>\n",
       "      <th>assigned_room_type</th>\n",
       "      <th>booking_changes</th>\n",
       "      <th>deposit_type</th>\n",
       "      <th>agent</th>\n",
       "      <th>company</th>\n",
       "      <th>days_in_waiting_list</th>\n",
       "      <th>customer_type</th>\n",
       "      <th>adr</th>\n",
       "      <th>required_car_parking_spaces</th>\n",
       "      <th>total_of_special_requests</th>\n",
       "      <th>reservation_status</th>\n",
       "      <th>reservation_status_date</th>\n",
       "    </tr>\n",
       "  </thead>\n",
       "  <tbody>\n",
       "    <tr>\n",
       "      <th>0</th>\n",
       "      <td>Direct</td>\n",
       "      <td>0</td>\n",
       "      <td>0</td>\n",
       "      <td>0</td>\n",
       "      <td>C</td>\n",
       "      <td>C</td>\n",
       "      <td>3</td>\n",
       "      <td>No Deposit</td>\n",
       "      <td>NaN</td>\n",
       "      <td>NaN</td>\n",
       "      <td>0</td>\n",
       "      <td>Transient</td>\n",
       "      <td>0.0</td>\n",
       "      <td>0</td>\n",
       "      <td>0</td>\n",
       "      <td>Check-Out</td>\n",
       "      <td>2015-07-01</td>\n",
       "    </tr>\n",
       "    <tr>\n",
       "      <th>1</th>\n",
       "      <td>Direct</td>\n",
       "      <td>0</td>\n",
       "      <td>0</td>\n",
       "      <td>0</td>\n",
       "      <td>C</td>\n",
       "      <td>C</td>\n",
       "      <td>4</td>\n",
       "      <td>No Deposit</td>\n",
       "      <td>NaN</td>\n",
       "      <td>NaN</td>\n",
       "      <td>0</td>\n",
       "      <td>Transient</td>\n",
       "      <td>0.0</td>\n",
       "      <td>0</td>\n",
       "      <td>0</td>\n",
       "      <td>Check-Out</td>\n",
       "      <td>2015-07-01</td>\n",
       "    </tr>\n",
       "    <tr>\n",
       "      <th>2</th>\n",
       "      <td>Direct</td>\n",
       "      <td>0</td>\n",
       "      <td>0</td>\n",
       "      <td>0</td>\n",
       "      <td>A</td>\n",
       "      <td>C</td>\n",
       "      <td>0</td>\n",
       "      <td>No Deposit</td>\n",
       "      <td>NaN</td>\n",
       "      <td>NaN</td>\n",
       "      <td>0</td>\n",
       "      <td>Transient</td>\n",
       "      <td>75.0</td>\n",
       "      <td>0</td>\n",
       "      <td>0</td>\n",
       "      <td>Check-Out</td>\n",
       "      <td>2015-07-02</td>\n",
       "    </tr>\n",
       "    <tr>\n",
       "      <th>3</th>\n",
       "      <td>Corporate</td>\n",
       "      <td>0</td>\n",
       "      <td>0</td>\n",
       "      <td>0</td>\n",
       "      <td>A</td>\n",
       "      <td>A</td>\n",
       "      <td>0</td>\n",
       "      <td>No Deposit</td>\n",
       "      <td>304.0</td>\n",
       "      <td>NaN</td>\n",
       "      <td>0</td>\n",
       "      <td>Transient</td>\n",
       "      <td>75.0</td>\n",
       "      <td>0</td>\n",
       "      <td>0</td>\n",
       "      <td>Check-Out</td>\n",
       "      <td>2015-07-02</td>\n",
       "    </tr>\n",
       "    <tr>\n",
       "      <th>4</th>\n",
       "      <td>TA/TO</td>\n",
       "      <td>0</td>\n",
       "      <td>0</td>\n",
       "      <td>0</td>\n",
       "      <td>A</td>\n",
       "      <td>A</td>\n",
       "      <td>0</td>\n",
       "      <td>No Deposit</td>\n",
       "      <td>240.0</td>\n",
       "      <td>NaN</td>\n",
       "      <td>0</td>\n",
       "      <td>Transient</td>\n",
       "      <td>98.0</td>\n",
       "      <td>0</td>\n",
       "      <td>1</td>\n",
       "      <td>Check-Out</td>\n",
       "      <td>2015-07-03</td>\n",
       "    </tr>\n",
       "  </tbody>\n",
       "</table>\n",
       "</div>"
      ],
      "text/plain": [
       "  distribution_channel  is_repeated_guest  previous_cancellations  \\\n",
       "0               Direct                  0                       0   \n",
       "1               Direct                  0                       0   \n",
       "2               Direct                  0                       0   \n",
       "3            Corporate                  0                       0   \n",
       "4                TA/TO                  0                       0   \n",
       "\n",
       "   previous_bookings_not_canceled reserved_room_type assigned_room_type  \\\n",
       "0                               0                  C                  C   \n",
       "1                               0                  C                  C   \n",
       "2                               0                  A                  C   \n",
       "3                               0                  A                  A   \n",
       "4                               0                  A                  A   \n",
       "\n",
       "   booking_changes deposit_type  agent  company  days_in_waiting_list  \\\n",
       "0                3   No Deposit    NaN      NaN                     0   \n",
       "1                4   No Deposit    NaN      NaN                     0   \n",
       "2                0   No Deposit    NaN      NaN                     0   \n",
       "3                0   No Deposit  304.0      NaN                     0   \n",
       "4                0   No Deposit  240.0      NaN                     0   \n",
       "\n",
       "  customer_type   adr  required_car_parking_spaces  total_of_special_requests  \\\n",
       "0     Transient   0.0                            0                          0   \n",
       "1     Transient   0.0                            0                          0   \n",
       "2     Transient  75.0                            0                          0   \n",
       "3     Transient  75.0                            0                          0   \n",
       "4     Transient  98.0                            0                          1   \n",
       "\n",
       "  reservation_status reservation_status_date  \n",
       "0          Check-Out              2015-07-01  \n",
       "1          Check-Out              2015-07-01  \n",
       "2          Check-Out              2015-07-02  \n",
       "3          Check-Out              2015-07-02  \n",
       "4          Check-Out              2015-07-03  "
      ]
     },
     "execution_count": 4,
     "metadata": {},
     "output_type": "execute_result"
    }
   ],
   "source": [
    "df.head().iloc[:,15:]"
   ]
  },
  {
   "cell_type": "code",
   "execution_count": 5,
   "id": "24ba7d21",
   "metadata": {
    "execution": {
     "iopub.execute_input": "2023-05-16T11:26:39.553434Z",
     "iopub.status.busy": "2023-05-16T11:26:39.552956Z",
     "iopub.status.idle": "2023-05-16T11:26:39.562195Z",
     "shell.execute_reply": "2023-05-16T11:26:39.560622Z"
    },
    "papermill": {
     "duration": 0.042597,
     "end_time": "2023-05-16T11:26:39.565417",
     "exception": false,
     "start_time": "2023-05-16T11:26:39.522820",
     "status": "completed"
    },
    "tags": []
   },
   "outputs": [
    {
     "data": {
      "text/plain": [
       "Index(['hotel', 'is_canceled', 'lead_time', 'arrival_date_year',\n",
       "       'arrival_date_month', 'arrival_date_week_number',\n",
       "       'arrival_date_day_of_month', 'stays_in_weekend_nights',\n",
       "       'stays_in_week_nights', 'adults', 'children', 'babies', 'meal',\n",
       "       'country', 'market_segment', 'distribution_channel',\n",
       "       'is_repeated_guest', 'previous_cancellations',\n",
       "       'previous_bookings_not_canceled', 'reserved_room_type',\n",
       "       'assigned_room_type', 'booking_changes', 'deposit_type', 'agent',\n",
       "       'company', 'days_in_waiting_list', 'customer_type', 'adr',\n",
       "       'required_car_parking_spaces', 'total_of_special_requests',\n",
       "       'reservation_status', 'reservation_status_date'],\n",
       "      dtype='object')"
      ]
     },
     "execution_count": 5,
     "metadata": {},
     "output_type": "execute_result"
    }
   ],
   "source": [
    "df.columns"
   ]
  },
  {
   "cell_type": "markdown",
   "id": "33a9d943",
   "metadata": {
    "papermill": {
     "duration": 0.030336,
     "end_time": "2023-05-16T11:26:39.623749",
     "exception": false,
     "start_time": "2023-05-16T11:26:39.593413",
     "status": "completed"
    },
    "tags": []
   },
   "source": [
    "## ***Column Discription***"
   ]
  },
  {
   "cell_type": "markdown",
   "id": "1e77c00c",
   "metadata": {
    "papermill": {
     "duration": 0.02725,
     "end_time": "2023-05-16T11:26:39.681308",
     "exception": false,
     "start_time": "2023-05-16T11:26:39.654058",
     "status": "completed"
    },
    "tags": []
   },
   "source": [
    "- Hotel (H1 = Resort Hotel or H2 = City Hotel)\n",
    "- is_canceled = Value indicating if the booking was canceled (1) or not (0)\n",
    "- lead_time = Number of days that elapsed between the entering date of the booking into the PMS and the arrival date\n",
    "- arrival_date_year = Year of arrival date\n",
    "- arrival_date_month = Month of arrival date\n",
    "- arrival_date_week_number = Week number of year for arrival date\n",
    "- arrival_date_day_of_month = Day of arrival date\n",
    "- stays_in_weekend_nights = Number of weekend nights (Saturday or Sunday) the guest stayed or booked to stay at the hote\n",
    "- stays_in_week_nights = Number of week nights (Monday to Friday) the guest stayed or booked to stay at the hotel\n",
    "- adults = Number of adults\n",
    "- children = Number of children\n",
    "- babies = Number of babies\n",
    "- meal = Type of meal booked. Categories are presented in standard hospitality meal packages: Undefined/SC – no meal\n",
    "- country = Country of origin. Categories are represented in the ISO 3155–3:2013 formal\n",
    "- market_segment = Market segment designation. In categories, the term “TA” means “Travel Agents” and “TO” means “Tour Operators”\n",
    "- distribution_channel = Booking distribution channel. The term “TA” means “Travel Agents” and “TO” means “Tour Operators”\n",
    "- is_repeated_guest = Value indicating if the booking name was from a repeated guest (1) or not (0)\n",
    "- previous_cancellations = Number of previous bookings that were cancelled by the customer prior to the current booking\n",
    "- previous_bookings_not_canceled = Number of previous bookings not cancelled by the customer prior to the current booking\n",
    "- reserved_room_type = Code of room type reserved. Code is presented instead of designation for anonymity reasons.\n",
    "- assigned_room_type = Code for the type of room assigned to the booking. Sometimes the assigned room type differs from the reserved room type due\n",
    "- booking_changes = Number of changes/amendments made to the booking from the moment the booking was entered on the PMS\n",
    "- deposit_type = Indication on if the customer made a deposit to guarantee the booking. This variable can assume three categories\n",
    "- agent = ID of the travel agency that made the booking\n",
    "- company = ID of the company/entity that made the booking or responsible for paying the booking.\n",
    "- days_in_waiting_list = Number of days the booking was in the waiting list before it was confirmed to the custome\n",
    "- customer_type = Type of booking, assuming one of four categories\n",
    "- adr = Average Daily Rate as defined by dividing the sum of all lodging transactions by the total number of staying nights\n",
    "- required_car_parking_spaces = Number of car parking spaces required by the customer\n",
    "- total_of_special_requests = Number of special requests made by the customer (e.g. twin bed or high floor)\n",
    "- reservation_status = Reservation last status, assuming one of three categories: Canceled – booking was canceled by the customer; Check-Out\n",
    "- reservation_status_date = Date at which the last status was set. This variable can be used in conjunction with the ReservationStatus "
   ]
  },
  {
   "cell_type": "code",
   "execution_count": 6,
   "id": "56866b8b",
   "metadata": {
    "execution": {
     "iopub.execute_input": "2023-05-16T11:26:39.741697Z",
     "iopub.status.busy": "2023-05-16T11:26:39.741240Z",
     "iopub.status.idle": "2023-05-16T11:26:39.770916Z",
     "shell.execute_reply": "2023-05-16T11:26:39.769897Z"
    },
    "papermill": {
     "duration": 0.061707,
     "end_time": "2023-05-16T11:26:39.773491",
     "exception": false,
     "start_time": "2023-05-16T11:26:39.711784",
     "status": "completed"
    },
    "tags": []
   },
   "outputs": [
    {
     "data": {
      "text/html": [
       "<div>\n",
       "<style scoped>\n",
       "    .dataframe tbody tr th:only-of-type {\n",
       "        vertical-align: middle;\n",
       "    }\n",
       "\n",
       "    .dataframe tbody tr th {\n",
       "        vertical-align: top;\n",
       "    }\n",
       "\n",
       "    .dataframe thead th {\n",
       "        text-align: right;\n",
       "    }\n",
       "</style>\n",
       "<table border=\"1\" class=\"dataframe\">\n",
       "  <thead>\n",
       "    <tr style=\"text-align: right;\">\n",
       "      <th></th>\n",
       "      <th>hotel</th>\n",
       "      <th>is_canceled</th>\n",
       "      <th>lead_time</th>\n",
       "      <th>arrival_date_year</th>\n",
       "      <th>arrival_date_month</th>\n",
       "      <th>arrival_date_week_number</th>\n",
       "      <th>arrival_date_day_of_month</th>\n",
       "      <th>stays_in_weekend_nights</th>\n",
       "      <th>stays_in_week_nights</th>\n",
       "      <th>adults</th>\n",
       "      <th>...</th>\n",
       "      <th>deposit_type</th>\n",
       "      <th>agent</th>\n",
       "      <th>company</th>\n",
       "      <th>days_in_waiting_list</th>\n",
       "      <th>customer_type</th>\n",
       "      <th>adr</th>\n",
       "      <th>required_car_parking_spaces</th>\n",
       "      <th>total_of_special_requests</th>\n",
       "      <th>reservation_status</th>\n",
       "      <th>reservation_status_date</th>\n",
       "    </tr>\n",
       "  </thead>\n",
       "  <tbody>\n",
       "    <tr>\n",
       "      <th>0</th>\n",
       "      <td>Resort Hotel</td>\n",
       "      <td>0</td>\n",
       "      <td>342</td>\n",
       "      <td>2015</td>\n",
       "      <td>July</td>\n",
       "      <td>27</td>\n",
       "      <td>1</td>\n",
       "      <td>0</td>\n",
       "      <td>0</td>\n",
       "      <td>2</td>\n",
       "      <td>...</td>\n",
       "      <td>No Deposit</td>\n",
       "      <td>NaN</td>\n",
       "      <td>NaN</td>\n",
       "      <td>0</td>\n",
       "      <td>Transient</td>\n",
       "      <td>0.0</td>\n",
       "      <td>0</td>\n",
       "      <td>0</td>\n",
       "      <td>Check-Out</td>\n",
       "      <td>2015-07-01</td>\n",
       "    </tr>\n",
       "    <tr>\n",
       "      <th>1</th>\n",
       "      <td>Resort Hotel</td>\n",
       "      <td>0</td>\n",
       "      <td>737</td>\n",
       "      <td>2015</td>\n",
       "      <td>July</td>\n",
       "      <td>27</td>\n",
       "      <td>1</td>\n",
       "      <td>0</td>\n",
       "      <td>0</td>\n",
       "      <td>2</td>\n",
       "      <td>...</td>\n",
       "      <td>No Deposit</td>\n",
       "      <td>NaN</td>\n",
       "      <td>NaN</td>\n",
       "      <td>0</td>\n",
       "      <td>Transient</td>\n",
       "      <td>0.0</td>\n",
       "      <td>0</td>\n",
       "      <td>0</td>\n",
       "      <td>Check-Out</td>\n",
       "      <td>2015-07-01</td>\n",
       "    </tr>\n",
       "    <tr>\n",
       "      <th>2</th>\n",
       "      <td>Resort Hotel</td>\n",
       "      <td>0</td>\n",
       "      <td>7</td>\n",
       "      <td>2015</td>\n",
       "      <td>July</td>\n",
       "      <td>27</td>\n",
       "      <td>1</td>\n",
       "      <td>0</td>\n",
       "      <td>1</td>\n",
       "      <td>1</td>\n",
       "      <td>...</td>\n",
       "      <td>No Deposit</td>\n",
       "      <td>NaN</td>\n",
       "      <td>NaN</td>\n",
       "      <td>0</td>\n",
       "      <td>Transient</td>\n",
       "      <td>75.0</td>\n",
       "      <td>0</td>\n",
       "      <td>0</td>\n",
       "      <td>Check-Out</td>\n",
       "      <td>2015-07-02</td>\n",
       "    </tr>\n",
       "    <tr>\n",
       "      <th>3</th>\n",
       "      <td>Resort Hotel</td>\n",
       "      <td>0</td>\n",
       "      <td>13</td>\n",
       "      <td>2015</td>\n",
       "      <td>July</td>\n",
       "      <td>27</td>\n",
       "      <td>1</td>\n",
       "      <td>0</td>\n",
       "      <td>1</td>\n",
       "      <td>1</td>\n",
       "      <td>...</td>\n",
       "      <td>No Deposit</td>\n",
       "      <td>304.0</td>\n",
       "      <td>NaN</td>\n",
       "      <td>0</td>\n",
       "      <td>Transient</td>\n",
       "      <td>75.0</td>\n",
       "      <td>0</td>\n",
       "      <td>0</td>\n",
       "      <td>Check-Out</td>\n",
       "      <td>2015-07-02</td>\n",
       "    </tr>\n",
       "    <tr>\n",
       "      <th>4</th>\n",
       "      <td>Resort Hotel</td>\n",
       "      <td>0</td>\n",
       "      <td>14</td>\n",
       "      <td>2015</td>\n",
       "      <td>July</td>\n",
       "      <td>27</td>\n",
       "      <td>1</td>\n",
       "      <td>0</td>\n",
       "      <td>2</td>\n",
       "      <td>2</td>\n",
       "      <td>...</td>\n",
       "      <td>No Deposit</td>\n",
       "      <td>240.0</td>\n",
       "      <td>NaN</td>\n",
       "      <td>0</td>\n",
       "      <td>Transient</td>\n",
       "      <td>98.0</td>\n",
       "      <td>0</td>\n",
       "      <td>1</td>\n",
       "      <td>Check-Out</td>\n",
       "      <td>2015-07-03</td>\n",
       "    </tr>\n",
       "  </tbody>\n",
       "</table>\n",
       "<p>5 rows × 32 columns</p>\n",
       "</div>"
      ],
      "text/plain": [
       "          hotel  is_canceled  lead_time  arrival_date_year arrival_date_month  \\\n",
       "0  Resort Hotel            0        342               2015               July   \n",
       "1  Resort Hotel            0        737               2015               July   \n",
       "2  Resort Hotel            0          7               2015               July   \n",
       "3  Resort Hotel            0         13               2015               July   \n",
       "4  Resort Hotel            0         14               2015               July   \n",
       "\n",
       "   arrival_date_week_number  arrival_date_day_of_month  \\\n",
       "0                        27                          1   \n",
       "1                        27                          1   \n",
       "2                        27                          1   \n",
       "3                        27                          1   \n",
       "4                        27                          1   \n",
       "\n",
       "   stays_in_weekend_nights  stays_in_week_nights  adults  ...  deposit_type  \\\n",
       "0                        0                     0       2  ...    No Deposit   \n",
       "1                        0                     0       2  ...    No Deposit   \n",
       "2                        0                     1       1  ...    No Deposit   \n",
       "3                        0                     1       1  ...    No Deposit   \n",
       "4                        0                     2       2  ...    No Deposit   \n",
       "\n",
       "   agent company days_in_waiting_list customer_type   adr  \\\n",
       "0    NaN     NaN                    0     Transient   0.0   \n",
       "1    NaN     NaN                    0     Transient   0.0   \n",
       "2    NaN     NaN                    0     Transient  75.0   \n",
       "3  304.0     NaN                    0     Transient  75.0   \n",
       "4  240.0     NaN                    0     Transient  98.0   \n",
       "\n",
       "   required_car_parking_spaces  total_of_special_requests  reservation_status  \\\n",
       "0                            0                          0           Check-Out   \n",
       "1                            0                          0           Check-Out   \n",
       "2                            0                          0           Check-Out   \n",
       "3                            0                          0           Check-Out   \n",
       "4                            0                          1           Check-Out   \n",
       "\n",
       "  reservation_status_date  \n",
       "0              2015-07-01  \n",
       "1              2015-07-01  \n",
       "2              2015-07-02  \n",
       "3              2015-07-02  \n",
       "4              2015-07-03  \n",
       "\n",
       "[5 rows x 32 columns]"
      ]
     },
     "execution_count": 6,
     "metadata": {},
     "output_type": "execute_result"
    }
   ],
   "source": [
    "df.head()"
   ]
  },
  {
   "cell_type": "code",
   "execution_count": 7,
   "id": "52c93946",
   "metadata": {
    "execution": {
     "iopub.execute_input": "2023-05-16T11:26:39.831312Z",
     "iopub.status.busy": "2023-05-16T11:26:39.830400Z",
     "iopub.status.idle": "2023-05-16T11:26:39.871775Z",
     "shell.execute_reply": "2023-05-16T11:26:39.870464Z"
    },
    "papermill": {
     "duration": 0.072526,
     "end_time": "2023-05-16T11:26:39.874686",
     "exception": false,
     "start_time": "2023-05-16T11:26:39.802160",
     "status": "completed"
    },
    "tags": []
   },
   "outputs": [
    {
     "data": {
      "text/html": [
       "<div>\n",
       "<style scoped>\n",
       "    .dataframe tbody tr th:only-of-type {\n",
       "        vertical-align: middle;\n",
       "    }\n",
       "\n",
       "    .dataframe tbody tr th {\n",
       "        vertical-align: top;\n",
       "    }\n",
       "\n",
       "    .dataframe thead th {\n",
       "        text-align: right;\n",
       "    }\n",
       "</style>\n",
       "<table border=\"1\" class=\"dataframe\">\n",
       "  <thead>\n",
       "    <tr style=\"text-align: right;\">\n",
       "      <th></th>\n",
       "      <th>hotel</th>\n",
       "      <th>is_canceled</th>\n",
       "      <th>lead_time</th>\n",
       "      <th>arrival_date_year</th>\n",
       "      <th>arrival_date_month</th>\n",
       "      <th>arrival_date_week_number</th>\n",
       "      <th>arrival_date_day_of_month</th>\n",
       "      <th>stays_in_weekend_nights</th>\n",
       "      <th>stays_in_week_nights</th>\n",
       "      <th>adults</th>\n",
       "      <th>...</th>\n",
       "      <th>deposit_type</th>\n",
       "      <th>agent</th>\n",
       "      <th>company</th>\n",
       "      <th>days_in_waiting_list</th>\n",
       "      <th>customer_type</th>\n",
       "      <th>adr</th>\n",
       "      <th>required_car_parking_spaces</th>\n",
       "      <th>total_of_special_requests</th>\n",
       "      <th>reservation_status</th>\n",
       "      <th>reservation_status_date</th>\n",
       "    </tr>\n",
       "  </thead>\n",
       "  <tbody>\n",
       "    <tr>\n",
       "      <th>53063</th>\n",
       "      <td>City Hotel</td>\n",
       "      <td>1</td>\n",
       "      <td>188</td>\n",
       "      <td>2016</td>\n",
       "      <td>June</td>\n",
       "      <td>25</td>\n",
       "      <td>15</td>\n",
       "      <td>0</td>\n",
       "      <td>2</td>\n",
       "      <td>1</td>\n",
       "      <td>...</td>\n",
       "      <td>Non Refund</td>\n",
       "      <td>119.0</td>\n",
       "      <td>NaN</td>\n",
       "      <td>39</td>\n",
       "      <td>Transient</td>\n",
       "      <td>130.00</td>\n",
       "      <td>0</td>\n",
       "      <td>0</td>\n",
       "      <td>Canceled</td>\n",
       "      <td>2016-01-18</td>\n",
       "    </tr>\n",
       "    <tr>\n",
       "      <th>111419</th>\n",
       "      <td>City Hotel</td>\n",
       "      <td>0</td>\n",
       "      <td>52</td>\n",
       "      <td>2017</td>\n",
       "      <td>May</td>\n",
       "      <td>18</td>\n",
       "      <td>6</td>\n",
       "      <td>2</td>\n",
       "      <td>3</td>\n",
       "      <td>2</td>\n",
       "      <td>...</td>\n",
       "      <td>No Deposit</td>\n",
       "      <td>7.0</td>\n",
       "      <td>NaN</td>\n",
       "      <td>0</td>\n",
       "      <td>Transient</td>\n",
       "      <td>121.68</td>\n",
       "      <td>0</td>\n",
       "      <td>0</td>\n",
       "      <td>Check-Out</td>\n",
       "      <td>2017-05-11</td>\n",
       "    </tr>\n",
       "    <tr>\n",
       "      <th>19449</th>\n",
       "      <td>Resort Hotel</td>\n",
       "      <td>0</td>\n",
       "      <td>0</td>\n",
       "      <td>2015</td>\n",
       "      <td>December</td>\n",
       "      <td>51</td>\n",
       "      <td>19</td>\n",
       "      <td>0</td>\n",
       "      <td>1</td>\n",
       "      <td>2</td>\n",
       "      <td>...</td>\n",
       "      <td>No Deposit</td>\n",
       "      <td>NaN</td>\n",
       "      <td>NaN</td>\n",
       "      <td>0</td>\n",
       "      <td>Transient</td>\n",
       "      <td>43.00</td>\n",
       "      <td>0</td>\n",
       "      <td>0</td>\n",
       "      <td>Check-Out</td>\n",
       "      <td>2015-12-20</td>\n",
       "    </tr>\n",
       "    <tr>\n",
       "      <th>98189</th>\n",
       "      <td>City Hotel</td>\n",
       "      <td>0</td>\n",
       "      <td>27</td>\n",
       "      <td>2016</td>\n",
       "      <td>September</td>\n",
       "      <td>39</td>\n",
       "      <td>23</td>\n",
       "      <td>1</td>\n",
       "      <td>2</td>\n",
       "      <td>2</td>\n",
       "      <td>...</td>\n",
       "      <td>No Deposit</td>\n",
       "      <td>7.0</td>\n",
       "      <td>NaN</td>\n",
       "      <td>0</td>\n",
       "      <td>Transient</td>\n",
       "      <td>234.35</td>\n",
       "      <td>0</td>\n",
       "      <td>1</td>\n",
       "      <td>Check-Out</td>\n",
       "      <td>2016-09-26</td>\n",
       "    </tr>\n",
       "    <tr>\n",
       "      <th>67140</th>\n",
       "      <td>City Hotel</td>\n",
       "      <td>1</td>\n",
       "      <td>10</td>\n",
       "      <td>2017</td>\n",
       "      <td>April</td>\n",
       "      <td>17</td>\n",
       "      <td>29</td>\n",
       "      <td>0</td>\n",
       "      <td>1</td>\n",
       "      <td>2</td>\n",
       "      <td>...</td>\n",
       "      <td>No Deposit</td>\n",
       "      <td>9.0</td>\n",
       "      <td>NaN</td>\n",
       "      <td>0</td>\n",
       "      <td>Transient</td>\n",
       "      <td>190.00</td>\n",
       "      <td>0</td>\n",
       "      <td>2</td>\n",
       "      <td>Canceled</td>\n",
       "      <td>2017-04-21</td>\n",
       "    </tr>\n",
       "    <tr>\n",
       "      <th>11483</th>\n",
       "      <td>Resort Hotel</td>\n",
       "      <td>1</td>\n",
       "      <td>140</td>\n",
       "      <td>2017</td>\n",
       "      <td>May</td>\n",
       "      <td>19</td>\n",
       "      <td>10</td>\n",
       "      <td>2</td>\n",
       "      <td>5</td>\n",
       "      <td>1</td>\n",
       "      <td>...</td>\n",
       "      <td>No Deposit</td>\n",
       "      <td>96.0</td>\n",
       "      <td>NaN</td>\n",
       "      <td>0</td>\n",
       "      <td>Transient-Party</td>\n",
       "      <td>48.00</td>\n",
       "      <td>0</td>\n",
       "      <td>0</td>\n",
       "      <td>Canceled</td>\n",
       "      <td>2017-01-12</td>\n",
       "    </tr>\n",
       "    <tr>\n",
       "      <th>31428</th>\n",
       "      <td>Resort Hotel</td>\n",
       "      <td>0</td>\n",
       "      <td>163</td>\n",
       "      <td>2016</td>\n",
       "      <td>December</td>\n",
       "      <td>52</td>\n",
       "      <td>24</td>\n",
       "      <td>2</td>\n",
       "      <td>3</td>\n",
       "      <td>2</td>\n",
       "      <td>...</td>\n",
       "      <td>No Deposit</td>\n",
       "      <td>339.0</td>\n",
       "      <td>NaN</td>\n",
       "      <td>0</td>\n",
       "      <td>Transient</td>\n",
       "      <td>86.24</td>\n",
       "      <td>0</td>\n",
       "      <td>1</td>\n",
       "      <td>Check-Out</td>\n",
       "      <td>2016-12-29</td>\n",
       "    </tr>\n",
       "    <tr>\n",
       "      <th>83491</th>\n",
       "      <td>City Hotel</td>\n",
       "      <td>0</td>\n",
       "      <td>9</td>\n",
       "      <td>2016</td>\n",
       "      <td>February</td>\n",
       "      <td>6</td>\n",
       "      <td>3</td>\n",
       "      <td>0</td>\n",
       "      <td>2</td>\n",
       "      <td>1</td>\n",
       "      <td>...</td>\n",
       "      <td>No Deposit</td>\n",
       "      <td>NaN</td>\n",
       "      <td>NaN</td>\n",
       "      <td>0</td>\n",
       "      <td>Transient</td>\n",
       "      <td>67.00</td>\n",
       "      <td>0</td>\n",
       "      <td>0</td>\n",
       "      <td>Check-Out</td>\n",
       "      <td>2016-02-05</td>\n",
       "    </tr>\n",
       "    <tr>\n",
       "      <th>111616</th>\n",
       "      <td>City Hotel</td>\n",
       "      <td>0</td>\n",
       "      <td>104</td>\n",
       "      <td>2017</td>\n",
       "      <td>May</td>\n",
       "      <td>19</td>\n",
       "      <td>9</td>\n",
       "      <td>0</td>\n",
       "      <td>4</td>\n",
       "      <td>2</td>\n",
       "      <td>...</td>\n",
       "      <td>No Deposit</td>\n",
       "      <td>28.0</td>\n",
       "      <td>NaN</td>\n",
       "      <td>0</td>\n",
       "      <td>Transient</td>\n",
       "      <td>85.00</td>\n",
       "      <td>0</td>\n",
       "      <td>2</td>\n",
       "      <td>Check-Out</td>\n",
       "      <td>2017-05-13</td>\n",
       "    </tr>\n",
       "    <tr>\n",
       "      <th>84268</th>\n",
       "      <td>City Hotel</td>\n",
       "      <td>0</td>\n",
       "      <td>2</td>\n",
       "      <td>2016</td>\n",
       "      <td>February</td>\n",
       "      <td>8</td>\n",
       "      <td>17</td>\n",
       "      <td>1</td>\n",
       "      <td>4</td>\n",
       "      <td>2</td>\n",
       "      <td>...</td>\n",
       "      <td>No Deposit</td>\n",
       "      <td>28.0</td>\n",
       "      <td>NaN</td>\n",
       "      <td>0</td>\n",
       "      <td>Transient</td>\n",
       "      <td>70.00</td>\n",
       "      <td>0</td>\n",
       "      <td>0</td>\n",
       "      <td>Check-Out</td>\n",
       "      <td>2016-02-22</td>\n",
       "    </tr>\n",
       "  </tbody>\n",
       "</table>\n",
       "<p>10 rows × 32 columns</p>\n",
       "</div>"
      ],
      "text/plain": [
       "               hotel  is_canceled  lead_time  arrival_date_year  \\\n",
       "53063     City Hotel            1        188               2016   \n",
       "111419    City Hotel            0         52               2017   \n",
       "19449   Resort Hotel            0          0               2015   \n",
       "98189     City Hotel            0         27               2016   \n",
       "67140     City Hotel            1         10               2017   \n",
       "11483   Resort Hotel            1        140               2017   \n",
       "31428   Resort Hotel            0        163               2016   \n",
       "83491     City Hotel            0          9               2016   \n",
       "111616    City Hotel            0        104               2017   \n",
       "84268     City Hotel            0          2               2016   \n",
       "\n",
       "       arrival_date_month  arrival_date_week_number  \\\n",
       "53063                June                        25   \n",
       "111419                May                        18   \n",
       "19449            December                        51   \n",
       "98189           September                        39   \n",
       "67140               April                        17   \n",
       "11483                 May                        19   \n",
       "31428            December                        52   \n",
       "83491            February                         6   \n",
       "111616                May                        19   \n",
       "84268            February                         8   \n",
       "\n",
       "        arrival_date_day_of_month  stays_in_weekend_nights  \\\n",
       "53063                          15                        0   \n",
       "111419                          6                        2   \n",
       "19449                          19                        0   \n",
       "98189                          23                        1   \n",
       "67140                          29                        0   \n",
       "11483                          10                        2   \n",
       "31428                          24                        2   \n",
       "83491                           3                        0   \n",
       "111616                          9                        0   \n",
       "84268                          17                        1   \n",
       "\n",
       "        stays_in_week_nights  adults  ...  deposit_type  agent company  \\\n",
       "53063                      2       1  ...    Non Refund  119.0     NaN   \n",
       "111419                     3       2  ...    No Deposit    7.0     NaN   \n",
       "19449                      1       2  ...    No Deposit    NaN     NaN   \n",
       "98189                      2       2  ...    No Deposit    7.0     NaN   \n",
       "67140                      1       2  ...    No Deposit    9.0     NaN   \n",
       "11483                      5       1  ...    No Deposit   96.0     NaN   \n",
       "31428                      3       2  ...    No Deposit  339.0     NaN   \n",
       "83491                      2       1  ...    No Deposit    NaN     NaN   \n",
       "111616                     4       2  ...    No Deposit   28.0     NaN   \n",
       "84268                      4       2  ...    No Deposit   28.0     NaN   \n",
       "\n",
       "       days_in_waiting_list    customer_type     adr  \\\n",
       "53063                    39        Transient  130.00   \n",
       "111419                    0        Transient  121.68   \n",
       "19449                     0        Transient   43.00   \n",
       "98189                     0        Transient  234.35   \n",
       "67140                     0        Transient  190.00   \n",
       "11483                     0  Transient-Party   48.00   \n",
       "31428                     0        Transient   86.24   \n",
       "83491                     0        Transient   67.00   \n",
       "111616                    0        Transient   85.00   \n",
       "84268                     0        Transient   70.00   \n",
       "\n",
       "        required_car_parking_spaces  total_of_special_requests  \\\n",
       "53063                             0                          0   \n",
       "111419                            0                          0   \n",
       "19449                             0                          0   \n",
       "98189                             0                          1   \n",
       "67140                             0                          2   \n",
       "11483                             0                          0   \n",
       "31428                             0                          1   \n",
       "83491                             0                          0   \n",
       "111616                            0                          2   \n",
       "84268                             0                          0   \n",
       "\n",
       "        reservation_status reservation_status_date  \n",
       "53063             Canceled              2016-01-18  \n",
       "111419           Check-Out              2017-05-11  \n",
       "19449            Check-Out              2015-12-20  \n",
       "98189            Check-Out              2016-09-26  \n",
       "67140             Canceled              2017-04-21  \n",
       "11483             Canceled              2017-01-12  \n",
       "31428            Check-Out              2016-12-29  \n",
       "83491            Check-Out              2016-02-05  \n",
       "111616           Check-Out              2017-05-13  \n",
       "84268            Check-Out              2016-02-22  \n",
       "\n",
       "[10 rows x 32 columns]"
      ]
     },
     "execution_count": 7,
     "metadata": {},
     "output_type": "execute_result"
    }
   ],
   "source": [
    "df.sample(10)"
   ]
  },
  {
   "cell_type": "markdown",
   "id": "10ae8f95",
   "metadata": {
    "papermill": {
     "duration": 0.028223,
     "end_time": "2023-05-16T11:26:39.930694",
     "exception": false,
     "start_time": "2023-05-16T11:26:39.902471",
     "status": "completed"
    },
    "tags": []
   },
   "source": [
    "## Checking the shape of data"
   ]
  },
  {
   "cell_type": "code",
   "execution_count": 8,
   "id": "45546722",
   "metadata": {
    "execution": {
     "iopub.execute_input": "2023-05-16T11:26:39.990056Z",
     "iopub.status.busy": "2023-05-16T11:26:39.989558Z",
     "iopub.status.idle": "2023-05-16T11:26:39.998796Z",
     "shell.execute_reply": "2023-05-16T11:26:39.997385Z"
    },
    "papermill": {
     "duration": 0.04199,
     "end_time": "2023-05-16T11:26:40.001703",
     "exception": false,
     "start_time": "2023-05-16T11:26:39.959713",
     "status": "completed"
    },
    "tags": []
   },
   "outputs": [
    {
     "data": {
      "text/plain": [
       "(119390, 32)"
      ]
     },
     "execution_count": 8,
     "metadata": {},
     "output_type": "execute_result"
    }
   ],
   "source": [
    "df.shape\n"
   ]
  },
  {
   "cell_type": "markdown",
   "id": "b5b59aa2",
   "metadata": {
    "papermill": {
     "duration": 0.027849,
     "end_time": "2023-05-16T11:26:40.059381",
     "exception": false,
     "start_time": "2023-05-16T11:26:40.031532",
     "status": "completed"
    },
    "tags": []
   },
   "source": [
    "## Basic Information"
   ]
  },
  {
   "cell_type": "code",
   "execution_count": 9,
   "id": "c05d6ef7",
   "metadata": {
    "execution": {
     "iopub.execute_input": "2023-05-16T11:26:40.117196Z",
     "iopub.status.busy": "2023-05-16T11:26:40.116730Z",
     "iopub.status.idle": "2023-05-16T11:26:40.313949Z",
     "shell.execute_reply": "2023-05-16T11:26:40.312459Z"
    },
    "papermill": {
     "duration": 0.229748,
     "end_time": "2023-05-16T11:26:40.316947",
     "exception": false,
     "start_time": "2023-05-16T11:26:40.087199",
     "status": "completed"
    },
    "tags": []
   },
   "outputs": [
    {
     "name": "stdout",
     "output_type": "stream",
     "text": [
      "<class 'pandas.core.frame.DataFrame'>\n",
      "RangeIndex: 119390 entries, 0 to 119389\n",
      "Data columns (total 32 columns):\n",
      " #   Column                          Non-Null Count   Dtype  \n",
      "---  ------                          --------------   -----  \n",
      " 0   hotel                           119390 non-null  object \n",
      " 1   is_canceled                     119390 non-null  int64  \n",
      " 2   lead_time                       119390 non-null  int64  \n",
      " 3   arrival_date_year               119390 non-null  int64  \n",
      " 4   arrival_date_month              119390 non-null  object \n",
      " 5   arrival_date_week_number        119390 non-null  int64  \n",
      " 6   arrival_date_day_of_month       119390 non-null  int64  \n",
      " 7   stays_in_weekend_nights         119390 non-null  int64  \n",
      " 8   stays_in_week_nights            119390 non-null  int64  \n",
      " 9   adults                          119390 non-null  int64  \n",
      " 10  children                        119386 non-null  float64\n",
      " 11  babies                          119390 non-null  int64  \n",
      " 12  meal                            119390 non-null  object \n",
      " 13  country                         118902 non-null  object \n",
      " 14  market_segment                  119390 non-null  object \n",
      " 15  distribution_channel            119390 non-null  object \n",
      " 16  is_repeated_guest               119390 non-null  int64  \n",
      " 17  previous_cancellations          119390 non-null  int64  \n",
      " 18  previous_bookings_not_canceled  119390 non-null  int64  \n",
      " 19  reserved_room_type              119390 non-null  object \n",
      " 20  assigned_room_type              119390 non-null  object \n",
      " 21  booking_changes                 119390 non-null  int64  \n",
      " 22  deposit_type                    119390 non-null  object \n",
      " 23  agent                           103050 non-null  float64\n",
      " 24  company                         6797 non-null    float64\n",
      " 25  days_in_waiting_list            119390 non-null  int64  \n",
      " 26  customer_type                   119390 non-null  object \n",
      " 27  adr                             119390 non-null  float64\n",
      " 28  required_car_parking_spaces     119390 non-null  int64  \n",
      " 29  total_of_special_requests       119390 non-null  int64  \n",
      " 30  reservation_status              119390 non-null  object \n",
      " 31  reservation_status_date         119390 non-null  object \n",
      "dtypes: float64(4), int64(16), object(12)\n",
      "memory usage: 29.1+ MB\n"
     ]
    }
   ],
   "source": [
    "df.info()"
   ]
  },
  {
   "cell_type": "markdown",
   "id": "be48ed61",
   "metadata": {
    "papermill": {
     "duration": 0.027365,
     "end_time": "2023-05-16T11:26:40.373344",
     "exception": false,
     "start_time": "2023-05-16T11:26:40.345979",
     "status": "completed"
    },
    "tags": []
   },
   "source": [
    "## Checking the missing value"
   ]
  },
  {
   "cell_type": "code",
   "execution_count": 10,
   "id": "c1c8f973",
   "metadata": {
    "execution": {
     "iopub.execute_input": "2023-05-16T11:26:40.430952Z",
     "iopub.status.busy": "2023-05-16T11:26:40.430504Z",
     "iopub.status.idle": "2023-05-16T11:26:40.604763Z",
     "shell.execute_reply": "2023-05-16T11:26:40.603377Z"
    },
    "papermill": {
     "duration": 0.206486,
     "end_time": "2023-05-16T11:26:40.607782",
     "exception": false,
     "start_time": "2023-05-16T11:26:40.401296",
     "status": "completed"
    },
    "tags": []
   },
   "outputs": [
    {
     "data": {
      "text/plain": [
       "hotel                                  0\n",
       "is_canceled                            0\n",
       "lead_time                              0\n",
       "arrival_date_year                      0\n",
       "arrival_date_month                     0\n",
       "arrival_date_week_number               0\n",
       "arrival_date_day_of_month              0\n",
       "stays_in_weekend_nights                0\n",
       "stays_in_week_nights                   0\n",
       "adults                                 0\n",
       "children                               4\n",
       "babies                                 0\n",
       "meal                                   0\n",
       "country                              488\n",
       "market_segment                         0\n",
       "distribution_channel                   0\n",
       "is_repeated_guest                      0\n",
       "previous_cancellations                 0\n",
       "previous_bookings_not_canceled         0\n",
       "reserved_room_type                     0\n",
       "assigned_room_type                     0\n",
       "booking_changes                        0\n",
       "deposit_type                           0\n",
       "agent                              16340\n",
       "company                           112593\n",
       "days_in_waiting_list                   0\n",
       "customer_type                          0\n",
       "adr                                    0\n",
       "required_car_parking_spaces            0\n",
       "total_of_special_requests              0\n",
       "reservation_status                     0\n",
       "reservation_status_date                0\n",
       "dtype: int64"
      ]
     },
     "execution_count": 10,
     "metadata": {},
     "output_type": "execute_result"
    }
   ],
   "source": [
    "df.isnull().sum()"
   ]
  },
  {
   "cell_type": "markdown",
   "id": "8e5fbc30",
   "metadata": {
    "papermill": {
     "duration": 0.029189,
     "end_time": "2023-05-16T11:26:40.665991",
     "exception": false,
     "start_time": "2023-05-16T11:26:40.636802",
     "status": "completed"
    },
    "tags": []
   },
   "source": [
    "## Checking the missing value %"
   ]
  },
  {
   "cell_type": "code",
   "execution_count": 11,
   "id": "9768ada3",
   "metadata": {
    "execution": {
     "iopub.execute_input": "2023-05-16T11:26:40.726734Z",
     "iopub.status.busy": "2023-05-16T11:26:40.726308Z",
     "iopub.status.idle": "2023-05-16T11:26:40.912089Z",
     "shell.execute_reply": "2023-05-16T11:26:40.910708Z"
    },
    "papermill": {
     "duration": 0.219588,
     "end_time": "2023-05-16T11:26:40.914906",
     "exception": false,
     "start_time": "2023-05-16T11:26:40.695318",
     "status": "completed"
    },
    "tags": []
   },
   "outputs": [
    {
     "name": "stdout",
     "output_type": "stream",
     "text": [
      "children --------------- 0.003350364352123293 %\n",
      "country --------------- 0.40874445095904177 %\n",
      "agent --------------- 13.686238378423655 %\n",
      "company --------------- 94.30689337465449 %\n"
     ]
    }
   ],
   "source": [
    "for i in df.columns:\n",
    "    if df[i].isnull().any():\n",
    "        print(i,\"---------------\",df[i].isnull().sum()/df.shape[0]*100,\"%\")"
   ]
  },
  {
   "cell_type": "markdown",
   "id": "b8e4d722",
   "metadata": {
    "papermill": {
     "duration": 0.028237,
     "end_time": "2023-05-16T11:26:40.971900",
     "exception": false,
     "start_time": "2023-05-16T11:26:40.943663",
     "status": "completed"
    },
    "tags": []
   },
   "source": [
    "## Droping the company column because it has 94% nan values"
   ]
  },
  {
   "cell_type": "code",
   "execution_count": 12,
   "id": "f13b361c",
   "metadata": {
    "execution": {
     "iopub.execute_input": "2023-05-16T11:26:41.031977Z",
     "iopub.status.busy": "2023-05-16T11:26:41.031481Z",
     "iopub.status.idle": "2023-05-16T11:26:41.060278Z",
     "shell.execute_reply": "2023-05-16T11:26:41.058955Z"
    },
    "papermill": {
     "duration": 0.062609,
     "end_time": "2023-05-16T11:26:41.063221",
     "exception": false,
     "start_time": "2023-05-16T11:26:41.000612",
     "status": "completed"
    },
    "tags": []
   },
   "outputs": [],
   "source": [
    "df.drop(columns=[\"company\"],inplace=True)"
   ]
  },
  {
   "cell_type": "markdown",
   "id": "60f31f4a",
   "metadata": {
    "papermill": {
     "duration": 0.029282,
     "end_time": "2023-05-16T11:26:41.121966",
     "exception": false,
     "start_time": "2023-05-16T11:26:41.092684",
     "status": "completed"
    },
    "tags": []
   },
   "source": [
    "# Imputation"
   ]
  },
  {
   "cell_type": "markdown",
   "id": "658e621d",
   "metadata": {
    "execution": {
     "iopub.execute_input": "2023-01-04T14:26:05.425704Z",
     "iopub.status.busy": "2023-01-04T14:26:05.425274Z",
     "iopub.status.idle": "2023-01-04T14:26:05.433361Z",
     "shell.execute_reply": "2023-01-04T14:26:05.432190Z",
     "shell.execute_reply.started": "2023-01-04T14:26:05.425670Z"
    },
    "papermill": {
     "duration": 0.028155,
     "end_time": "2023-05-16T11:26:41.180327",
     "exception": false,
     "start_time": "2023-05-16T11:26:41.152172",
     "status": "completed"
    },
    "tags": []
   },
   "source": [
    "## Checking dtype"
   ]
  },
  {
   "cell_type": "code",
   "execution_count": 13,
   "id": "7de63586",
   "metadata": {
    "execution": {
     "iopub.execute_input": "2023-05-16T11:26:41.240161Z",
     "iopub.status.busy": "2023-05-16T11:26:41.239661Z",
     "iopub.status.idle": "2023-05-16T11:26:41.249597Z",
     "shell.execute_reply": "2023-05-16T11:26:41.248411Z"
    },
    "papermill": {
     "duration": 0.042301,
     "end_time": "2023-05-16T11:26:41.252028",
     "exception": false,
     "start_time": "2023-05-16T11:26:41.209727",
     "status": "completed"
    },
    "tags": []
   },
   "outputs": [
    {
     "data": {
      "text/plain": [
       "hotel                              object\n",
       "is_canceled                         int64\n",
       "lead_time                           int64\n",
       "arrival_date_year                   int64\n",
       "arrival_date_month                 object\n",
       "arrival_date_week_number            int64\n",
       "arrival_date_day_of_month           int64\n",
       "stays_in_weekend_nights             int64\n",
       "stays_in_week_nights                int64\n",
       "adults                              int64\n",
       "children                          float64\n",
       "babies                              int64\n",
       "meal                               object\n",
       "country                            object\n",
       "market_segment                     object\n",
       "distribution_channel               object\n",
       "is_repeated_guest                   int64\n",
       "previous_cancellations              int64\n",
       "previous_bookings_not_canceled      int64\n",
       "reserved_room_type                 object\n",
       "assigned_room_type                 object\n",
       "booking_changes                     int64\n",
       "deposit_type                       object\n",
       "agent                             float64\n",
       "days_in_waiting_list                int64\n",
       "customer_type                      object\n",
       "adr                               float64\n",
       "required_car_parking_spaces         int64\n",
       "total_of_special_requests           int64\n",
       "reservation_status                 object\n",
       "reservation_status_date            object\n",
       "dtype: object"
      ]
     },
     "execution_count": 13,
     "metadata": {},
     "output_type": "execute_result"
    }
   ],
   "source": [
    "df.dtypes"
   ]
  },
  {
   "cell_type": "markdown",
   "id": "34311b05",
   "metadata": {
    "papermill": {
     "duration": 0.028605,
     "end_time": "2023-05-16T11:26:41.309195",
     "exception": false,
     "start_time": "2023-05-16T11:26:41.280590",
     "status": "completed"
    },
    "tags": []
   },
   "source": []
  },
  {
   "cell_type": "markdown",
   "id": "4a91b297",
   "metadata": {
    "papermill": {
     "duration": 0.028768,
     "end_time": "2023-05-16T11:26:41.366715",
     "exception": false,
     "start_time": "2023-05-16T11:26:41.337947",
     "status": "completed"
    },
    "tags": []
   },
   "source": [
    "# Droping the raws which have null valuse in country"
   ]
  },
  {
   "cell_type": "code",
   "execution_count": 14,
   "id": "46057f79",
   "metadata": {
    "execution": {
     "iopub.execute_input": "2023-05-16T11:26:41.425834Z",
     "iopub.status.busy": "2023-05-16T11:26:41.425370Z",
     "iopub.status.idle": "2023-05-16T11:26:41.636748Z",
     "shell.execute_reply": "2023-05-16T11:26:41.635279Z"
    },
    "papermill": {
     "duration": 0.244959,
     "end_time": "2023-05-16T11:26:41.640106",
     "exception": false,
     "start_time": "2023-05-16T11:26:41.395147",
     "status": "completed"
    },
    "tags": []
   },
   "outputs": [],
   "source": [
    "df.dropna(how=\"any\",axis=0,inplace=True)"
   ]
  },
  {
   "cell_type": "markdown",
   "id": "0c97edaf",
   "metadata": {
    "papermill": {
     "duration": 0.029313,
     "end_time": "2023-05-16T11:26:41.698041",
     "exception": false,
     "start_time": "2023-05-16T11:26:41.668728",
     "status": "completed"
    },
    "tags": []
   },
   "source": [
    "## Filling the null values"
   ]
  },
  {
   "cell_type": "code",
   "execution_count": 15,
   "id": "7fa92ac0",
   "metadata": {
    "execution": {
     "iopub.execute_input": "2023-05-16T11:26:41.758798Z",
     "iopub.status.busy": "2023-05-16T11:26:41.757686Z",
     "iopub.status.idle": "2023-05-16T11:26:41.918089Z",
     "shell.execute_reply": "2023-05-16T11:26:41.916891Z"
    },
    "papermill": {
     "duration": 0.193533,
     "end_time": "2023-05-16T11:26:41.921058",
     "exception": false,
     "start_time": "2023-05-16T11:26:41.727525",
     "status": "completed"
    },
    "tags": []
   },
   "outputs": [],
   "source": [
    "for i in df.columns:\n",
    "    if df[i].isnull().any():\n",
    "        if df[i].dtypes==\"object\":\n",
    "            df[i].fillna(df[i].mode()[0],inplace=True)\n",
    "        elif  df[i].dtypes==\"float\":\n",
    "            df[i].fillna(df[i].median(),inplace=True)\n",
    "        elif  df[i].dtypes==\"int\":\n",
    "            df[i].fillna(df[i].median(),inplace=True)\n",
    "        else:\n",
    "            pass"
   ]
  },
  {
   "cell_type": "code",
   "execution_count": 16,
   "id": "5e266e1a",
   "metadata": {
    "execution": {
     "iopub.execute_input": "2023-05-16T11:26:41.983957Z",
     "iopub.status.busy": "2023-05-16T11:26:41.983489Z",
     "iopub.status.idle": "2023-05-16T11:26:42.134442Z",
     "shell.execute_reply": "2023-05-16T11:26:42.133252Z"
    },
    "papermill": {
     "duration": 0.187568,
     "end_time": "2023-05-16T11:26:42.137214",
     "exception": false,
     "start_time": "2023-05-16T11:26:41.949646",
     "status": "completed"
    },
    "tags": []
   },
   "outputs": [
    {
     "data": {
      "text/plain": [
       "0"
      ]
     },
     "execution_count": 16,
     "metadata": {},
     "output_type": "execute_result"
    }
   ],
   "source": [
    "df.isnull().sum().sum()"
   ]
  },
  {
   "cell_type": "markdown",
   "id": "6d927cd9",
   "metadata": {
    "papermill": {
     "duration": 0.029189,
     "end_time": "2023-05-16T11:26:42.195477",
     "exception": false,
     "start_time": "2023-05-16T11:26:42.166288",
     "status": "completed"
    },
    "tags": []
   },
   "source": [
    "## Statistical summary of the data"
   ]
  },
  {
   "cell_type": "code",
   "execution_count": 17,
   "id": "426a97b6",
   "metadata": {
    "execution": {
     "iopub.execute_input": "2023-05-16T11:26:42.254915Z",
     "iopub.status.busy": "2023-05-16T11:26:42.254482Z",
     "iopub.status.idle": "2023-05-16T11:26:42.391714Z",
     "shell.execute_reply": "2023-05-16T11:26:42.390276Z"
    },
    "papermill": {
     "duration": 0.170318,
     "end_time": "2023-05-16T11:26:42.394575",
     "exception": false,
     "start_time": "2023-05-16T11:26:42.224257",
     "status": "completed"
    },
    "tags": []
   },
   "outputs": [
    {
     "data": {
      "text/html": [
       "<div>\n",
       "<style scoped>\n",
       "    .dataframe tbody tr th:only-of-type {\n",
       "        vertical-align: middle;\n",
       "    }\n",
       "\n",
       "    .dataframe tbody tr th {\n",
       "        vertical-align: top;\n",
       "    }\n",
       "\n",
       "    .dataframe thead th {\n",
       "        text-align: right;\n",
       "    }\n",
       "</style>\n",
       "<table border=\"1\" class=\"dataframe\">\n",
       "  <thead>\n",
       "    <tr style=\"text-align: right;\">\n",
       "      <th></th>\n",
       "      <th>count</th>\n",
       "      <th>mean</th>\n",
       "      <th>std</th>\n",
       "      <th>min</th>\n",
       "      <th>25%</th>\n",
       "      <th>50%</th>\n",
       "      <th>75%</th>\n",
       "      <th>max</th>\n",
       "    </tr>\n",
       "  </thead>\n",
       "  <tbody>\n",
       "    <tr>\n",
       "      <th>is_canceled</th>\n",
       "      <td>102894.0</td>\n",
       "      <td>0.390314</td>\n",
       "      <td>0.487823</td>\n",
       "      <td>0.00</td>\n",
       "      <td>0.0</td>\n",
       "      <td>0.0</td>\n",
       "      <td>1.0</td>\n",
       "      <td>1.0</td>\n",
       "    </tr>\n",
       "    <tr>\n",
       "      <th>lead_time</th>\n",
       "      <td>102894.0</td>\n",
       "      <td>111.740092</td>\n",
       "      <td>107.681013</td>\n",
       "      <td>0.00</td>\n",
       "      <td>26.0</td>\n",
       "      <td>79.0</td>\n",
       "      <td>169.0</td>\n",
       "      <td>629.0</td>\n",
       "    </tr>\n",
       "    <tr>\n",
       "      <th>arrival_date_year</th>\n",
       "      <td>102894.0</td>\n",
       "      <td>2016.156977</td>\n",
       "      <td>0.706117</td>\n",
       "      <td>2015.00</td>\n",
       "      <td>2016.0</td>\n",
       "      <td>2016.0</td>\n",
       "      <td>2017.0</td>\n",
       "      <td>2017.0</td>\n",
       "    </tr>\n",
       "    <tr>\n",
       "      <th>arrival_date_week_number</th>\n",
       "      <td>102894.0</td>\n",
       "      <td>27.339155</td>\n",
       "      <td>13.279990</td>\n",
       "      <td>1.00</td>\n",
       "      <td>17.0</td>\n",
       "      <td>28.0</td>\n",
       "      <td>38.0</td>\n",
       "      <td>53.0</td>\n",
       "    </tr>\n",
       "    <tr>\n",
       "      <th>arrival_date_day_of_month</th>\n",
       "      <td>102894.0</td>\n",
       "      <td>15.786771</td>\n",
       "      <td>8.794042</td>\n",
       "      <td>1.00</td>\n",
       "      <td>8.0</td>\n",
       "      <td>16.0</td>\n",
       "      <td>24.0</td>\n",
       "      <td>31.0</td>\n",
       "    </tr>\n",
       "    <tr>\n",
       "      <th>stays_in_weekend_nights</th>\n",
       "      <td>102894.0</td>\n",
       "      <td>0.978181</td>\n",
       "      <td>1.003991</td>\n",
       "      <td>0.00</td>\n",
       "      <td>0.0</td>\n",
       "      <td>1.0</td>\n",
       "      <td>2.0</td>\n",
       "      <td>16.0</td>\n",
       "    </tr>\n",
       "    <tr>\n",
       "      <th>stays_in_week_nights</th>\n",
       "      <td>102894.0</td>\n",
       "      <td>2.589655</td>\n",
       "      <td>1.905941</td>\n",
       "      <td>0.00</td>\n",
       "      <td>1.0</td>\n",
       "      <td>2.0</td>\n",
       "      <td>3.0</td>\n",
       "      <td>41.0</td>\n",
       "    </tr>\n",
       "    <tr>\n",
       "      <th>adults</th>\n",
       "      <td>102894.0</td>\n",
       "      <td>1.899926</td>\n",
       "      <td>0.490891</td>\n",
       "      <td>0.00</td>\n",
       "      <td>2.0</td>\n",
       "      <td>2.0</td>\n",
       "      <td>2.0</td>\n",
       "      <td>26.0</td>\n",
       "    </tr>\n",
       "    <tr>\n",
       "      <th>children</th>\n",
       "      <td>102894.0</td>\n",
       "      <td>0.111231</td>\n",
       "      <td>0.411982</td>\n",
       "      <td>0.00</td>\n",
       "      <td>0.0</td>\n",
       "      <td>0.0</td>\n",
       "      <td>0.0</td>\n",
       "      <td>10.0</td>\n",
       "    </tr>\n",
       "    <tr>\n",
       "      <th>babies</th>\n",
       "      <td>102894.0</td>\n",
       "      <td>0.007697</td>\n",
       "      <td>0.097089</td>\n",
       "      <td>0.00</td>\n",
       "      <td>0.0</td>\n",
       "      <td>0.0</td>\n",
       "      <td>0.0</td>\n",
       "      <td>10.0</td>\n",
       "    </tr>\n",
       "    <tr>\n",
       "      <th>is_repeated_guest</th>\n",
       "      <td>102894.0</td>\n",
       "      <td>0.014034</td>\n",
       "      <td>0.117631</td>\n",
       "      <td>0.00</td>\n",
       "      <td>0.0</td>\n",
       "      <td>0.0</td>\n",
       "      <td>0.0</td>\n",
       "      <td>1.0</td>\n",
       "    </tr>\n",
       "    <tr>\n",
       "      <th>previous_cancellations</th>\n",
       "      <td>102894.0</td>\n",
       "      <td>0.077215</td>\n",
       "      <td>0.758185</td>\n",
       "      <td>0.00</td>\n",
       "      <td>0.0</td>\n",
       "      <td>0.0</td>\n",
       "      <td>0.0</td>\n",
       "      <td>26.0</td>\n",
       "    </tr>\n",
       "    <tr>\n",
       "      <th>previous_bookings_not_canceled</th>\n",
       "      <td>102894.0</td>\n",
       "      <td>0.024365</td>\n",
       "      <td>0.435759</td>\n",
       "      <td>0.00</td>\n",
       "      <td>0.0</td>\n",
       "      <td>0.0</td>\n",
       "      <td>0.0</td>\n",
       "      <td>50.0</td>\n",
       "    </tr>\n",
       "    <tr>\n",
       "      <th>booking_changes</th>\n",
       "      <td>102894.0</td>\n",
       "      <td>0.201780</td>\n",
       "      <td>0.624954</td>\n",
       "      <td>0.00</td>\n",
       "      <td>0.0</td>\n",
       "      <td>0.0</td>\n",
       "      <td>0.0</td>\n",
       "      <td>18.0</td>\n",
       "    </tr>\n",
       "    <tr>\n",
       "      <th>agent</th>\n",
       "      <td>102894.0</td>\n",
       "      <td>86.545532</td>\n",
       "      <td>110.714259</td>\n",
       "      <td>1.00</td>\n",
       "      <td>9.0</td>\n",
       "      <td>14.0</td>\n",
       "      <td>229.0</td>\n",
       "      <td>535.0</td>\n",
       "    </tr>\n",
       "    <tr>\n",
       "      <th>days_in_waiting_list</th>\n",
       "      <td>102894.0</td>\n",
       "      <td>2.619579</td>\n",
       "      <td>18.797440</td>\n",
       "      <td>0.00</td>\n",
       "      <td>0.0</td>\n",
       "      <td>0.0</td>\n",
       "      <td>0.0</td>\n",
       "      <td>391.0</td>\n",
       "    </tr>\n",
       "    <tr>\n",
       "      <th>adr</th>\n",
       "      <td>102894.0</td>\n",
       "      <td>104.679911</td>\n",
       "      <td>50.021697</td>\n",
       "      <td>-6.38</td>\n",
       "      <td>73.0</td>\n",
       "      <td>96.3</td>\n",
       "      <td>127.8</td>\n",
       "      <td>5400.0</td>\n",
       "    </tr>\n",
       "    <tr>\n",
       "      <th>required_car_parking_spaces</th>\n",
       "      <td>102894.0</td>\n",
       "      <td>0.053035</td>\n",
       "      <td>0.225359</td>\n",
       "      <td>0.00</td>\n",
       "      <td>0.0</td>\n",
       "      <td>0.0</td>\n",
       "      <td>0.0</td>\n",
       "      <td>3.0</td>\n",
       "    </tr>\n",
       "    <tr>\n",
       "      <th>total_of_special_requests</th>\n",
       "      <td>102894.0</td>\n",
       "      <td>0.605458</td>\n",
       "      <td>0.799342</td>\n",
       "      <td>0.00</td>\n",
       "      <td>0.0</td>\n",
       "      <td>0.0</td>\n",
       "      <td>1.0</td>\n",
       "      <td>5.0</td>\n",
       "    </tr>\n",
       "  </tbody>\n",
       "</table>\n",
       "</div>"
      ],
      "text/plain": [
       "                                   count         mean         std      min  \\\n",
       "is_canceled                     102894.0     0.390314    0.487823     0.00   \n",
       "lead_time                       102894.0   111.740092  107.681013     0.00   \n",
       "arrival_date_year               102894.0  2016.156977    0.706117  2015.00   \n",
       "arrival_date_week_number        102894.0    27.339155   13.279990     1.00   \n",
       "arrival_date_day_of_month       102894.0    15.786771    8.794042     1.00   \n",
       "stays_in_weekend_nights         102894.0     0.978181    1.003991     0.00   \n",
       "stays_in_week_nights            102894.0     2.589655    1.905941     0.00   \n",
       "adults                          102894.0     1.899926    0.490891     0.00   \n",
       "children                        102894.0     0.111231    0.411982     0.00   \n",
       "babies                          102894.0     0.007697    0.097089     0.00   \n",
       "is_repeated_guest               102894.0     0.014034    0.117631     0.00   \n",
       "previous_cancellations          102894.0     0.077215    0.758185     0.00   \n",
       "previous_bookings_not_canceled  102894.0     0.024365    0.435759     0.00   \n",
       "booking_changes                 102894.0     0.201780    0.624954     0.00   \n",
       "agent                           102894.0    86.545532  110.714259     1.00   \n",
       "days_in_waiting_list            102894.0     2.619579   18.797440     0.00   \n",
       "adr                             102894.0   104.679911   50.021697    -6.38   \n",
       "required_car_parking_spaces     102894.0     0.053035    0.225359     0.00   \n",
       "total_of_special_requests       102894.0     0.605458    0.799342     0.00   \n",
       "\n",
       "                                   25%     50%     75%     max  \n",
       "is_canceled                        0.0     0.0     1.0     1.0  \n",
       "lead_time                         26.0    79.0   169.0   629.0  \n",
       "arrival_date_year               2016.0  2016.0  2017.0  2017.0  \n",
       "arrival_date_week_number          17.0    28.0    38.0    53.0  \n",
       "arrival_date_day_of_month          8.0    16.0    24.0    31.0  \n",
       "stays_in_weekend_nights            0.0     1.0     2.0    16.0  \n",
       "stays_in_week_nights               1.0     2.0     3.0    41.0  \n",
       "adults                             2.0     2.0     2.0    26.0  \n",
       "children                           0.0     0.0     0.0    10.0  \n",
       "babies                             0.0     0.0     0.0    10.0  \n",
       "is_repeated_guest                  0.0     0.0     0.0     1.0  \n",
       "previous_cancellations             0.0     0.0     0.0    26.0  \n",
       "previous_bookings_not_canceled     0.0     0.0     0.0    50.0  \n",
       "booking_changes                    0.0     0.0     0.0    18.0  \n",
       "agent                              9.0    14.0   229.0   535.0  \n",
       "days_in_waiting_list               0.0     0.0     0.0   391.0  \n",
       "adr                               73.0    96.3   127.8  5400.0  \n",
       "required_car_parking_spaces        0.0     0.0     0.0     3.0  \n",
       "total_of_special_requests          0.0     0.0     1.0     5.0  "
      ]
     },
     "execution_count": 17,
     "metadata": {},
     "output_type": "execute_result"
    }
   ],
   "source": [
    "df.describe().T"
   ]
  },
  {
   "cell_type": "markdown",
   "id": "27742e85",
   "metadata": {
    "papermill": {
     "duration": 0.029615,
     "end_time": "2023-05-16T11:26:42.455906",
     "exception": false,
     "start_time": "2023-05-16T11:26:42.426291",
     "status": "completed"
    },
    "tags": []
   },
   "source": [
    "## How is the correlation between columns ?"
   ]
  },
  {
   "cell_type": "code",
   "execution_count": 18,
   "id": "62d813ee",
   "metadata": {
    "execution": {
     "iopub.execute_input": "2023-05-16T11:26:42.518051Z",
     "iopub.status.busy": "2023-05-16T11:26:42.517617Z",
     "iopub.status.idle": "2023-05-16T11:26:42.685158Z",
     "shell.execute_reply": "2023-05-16T11:26:42.683719Z"
    },
    "papermill": {
     "duration": 0.203441,
     "end_time": "2023-05-16T11:26:42.689810",
     "exception": false,
     "start_time": "2023-05-16T11:26:42.486369",
     "status": "completed"
    },
    "tags": []
   },
   "outputs": [
    {
     "data": {
      "text/html": [
       "<div>\n",
       "<style scoped>\n",
       "    .dataframe tbody tr th:only-of-type {\n",
       "        vertical-align: middle;\n",
       "    }\n",
       "\n",
       "    .dataframe tbody tr th {\n",
       "        vertical-align: top;\n",
       "    }\n",
       "\n",
       "    .dataframe thead th {\n",
       "        text-align: right;\n",
       "    }\n",
       "</style>\n",
       "<table border=\"1\" class=\"dataframe\">\n",
       "  <thead>\n",
       "    <tr style=\"text-align: right;\">\n",
       "      <th></th>\n",
       "      <th>is_canceled</th>\n",
       "      <th>lead_time</th>\n",
       "      <th>arrival_date_year</th>\n",
       "      <th>arrival_date_week_number</th>\n",
       "      <th>arrival_date_day_of_month</th>\n",
       "      <th>stays_in_weekend_nights</th>\n",
       "      <th>stays_in_week_nights</th>\n",
       "      <th>adults</th>\n",
       "      <th>children</th>\n",
       "      <th>babies</th>\n",
       "      <th>is_repeated_guest</th>\n",
       "      <th>previous_cancellations</th>\n",
       "      <th>previous_bookings_not_canceled</th>\n",
       "      <th>booking_changes</th>\n",
       "      <th>agent</th>\n",
       "      <th>days_in_waiting_list</th>\n",
       "      <th>adr</th>\n",
       "      <th>required_car_parking_spaces</th>\n",
       "      <th>total_of_special_requests</th>\n",
       "    </tr>\n",
       "  </thead>\n",
       "  <tbody>\n",
       "    <tr>\n",
       "      <th>is_canceled</th>\n",
       "      <td>1.000000</td>\n",
       "      <td>0.277666</td>\n",
       "      <td>0.004561</td>\n",
       "      <td>0.004172</td>\n",
       "      <td>-0.005468</td>\n",
       "      <td>-0.023589</td>\n",
       "      <td>0.003918</td>\n",
       "      <td>0.037057</td>\n",
       "      <td>0.005409</td>\n",
       "      <td>-0.032038</td>\n",
       "      <td>-0.029913</td>\n",
       "      <td>0.117983</td>\n",
       "      <td>-0.042589</td>\n",
       "      <td>-0.131714</td>\n",
       "      <td>-0.081939</td>\n",
       "      <td>0.052475</td>\n",
       "      <td>0.023284</td>\n",
       "      <td>-0.188298</td>\n",
       "      <td>-0.257934</td>\n",
       "    </tr>\n",
       "    <tr>\n",
       "      <th>lead_time</th>\n",
       "      <td>0.277666</td>\n",
       "      <td>1.000000</td>\n",
       "      <td>0.041082</td>\n",
       "      <td>0.120155</td>\n",
       "      <td>-0.003472</td>\n",
       "      <td>0.047674</td>\n",
       "      <td>0.124195</td>\n",
       "      <td>0.072477</td>\n",
       "      <td>-0.049796</td>\n",
       "      <td>-0.021975</td>\n",
       "      <td>-0.055432</td>\n",
       "      <td>0.100271</td>\n",
       "      <td>-0.045082</td>\n",
       "      <td>-0.000282</td>\n",
       "      <td>-0.068753</td>\n",
       "      <td>0.170352</td>\n",
       "      <td>-0.112652</td>\n",
       "      <td>-0.111226</td>\n",
       "      <td>-0.123047</td>\n",
       "    </tr>\n",
       "    <tr>\n",
       "      <th>arrival_date_year</th>\n",
       "      <td>0.004561</td>\n",
       "      <td>0.041082</td>\n",
       "      <td>1.000000</td>\n",
       "      <td>-0.530387</td>\n",
       "      <td>0.005206</td>\n",
       "      <td>0.020693</td>\n",
       "      <td>0.032807</td>\n",
       "      <td>0.061359</td>\n",
       "      <td>0.065394</td>\n",
       "      <td>-0.009828</td>\n",
       "      <td>-0.022428</td>\n",
       "      <td>-0.134031</td>\n",
       "      <td>0.015334</td>\n",
       "      <td>0.036468</td>\n",
       "      <td>0.063684</td>\n",
       "      <td>-0.061742</td>\n",
       "      <td>0.222059</td>\n",
       "      <td>-0.012864</td>\n",
       "      <td>0.121490</td>\n",
       "    </tr>\n",
       "    <tr>\n",
       "      <th>arrival_date_week_number</th>\n",
       "      <td>0.004172</td>\n",
       "      <td>0.120155</td>\n",
       "      <td>-0.530387</td>\n",
       "      <td>1.000000</td>\n",
       "      <td>0.057587</td>\n",
       "      <td>0.010114</td>\n",
       "      <td>0.013212</td>\n",
       "      <td>0.003496</td>\n",
       "      <td>-0.000687</td>\n",
       "      <td>0.007865</td>\n",
       "      <td>-0.013250</td>\n",
       "      <td>0.042645</td>\n",
       "      <td>-0.025095</td>\n",
       "      <td>0.008551</td>\n",
       "      <td>-0.030993</td>\n",
       "      <td>0.023822</td>\n",
       "      <td>0.062570</td>\n",
       "      <td>-0.001477</td>\n",
       "      <td>0.021639</td>\n",
       "    </tr>\n",
       "    <tr>\n",
       "      <th>arrival_date_day_of_month</th>\n",
       "      <td>-0.005468</td>\n",
       "      <td>-0.003472</td>\n",
       "      <td>0.005206</td>\n",
       "      <td>0.057587</td>\n",
       "      <td>1.000000</td>\n",
       "      <td>-0.016510</td>\n",
       "      <td>-0.030852</td>\n",
       "      <td>0.001151</td>\n",
       "      <td>0.013545</td>\n",
       "      <td>-0.002426</td>\n",
       "      <td>-0.008447</td>\n",
       "      <td>-0.024869</td>\n",
       "      <td>0.001447</td>\n",
       "      <td>0.011505</td>\n",
       "      <td>0.001731</td>\n",
       "      <td>0.024778</td>\n",
       "      <td>0.025590</td>\n",
       "      <td>0.004745</td>\n",
       "      <td>0.002560</td>\n",
       "    </tr>\n",
       "    <tr>\n",
       "      <th>stays_in_weekend_nights</th>\n",
       "      <td>-0.023589</td>\n",
       "      <td>0.047674</td>\n",
       "      <td>0.020693</td>\n",
       "      <td>0.010114</td>\n",
       "      <td>-0.016510</td>\n",
       "      <td>1.000000</td>\n",
       "      <td>0.486350</td>\n",
       "      <td>0.070997</td>\n",
       "      <td>0.039961</td>\n",
       "      <td>0.020068</td>\n",
       "      <td>-0.056987</td>\n",
       "      <td>-0.003021</td>\n",
       "      <td>-0.028041</td>\n",
       "      <td>0.054693</td>\n",
       "      <td>0.141387</td>\n",
       "      <td>-0.064610</td>\n",
       "      <td>0.016233</td>\n",
       "      <td>-0.011037</td>\n",
       "      <td>0.056110</td>\n",
       "    </tr>\n",
       "    <tr>\n",
       "      <th>stays_in_week_nights</th>\n",
       "      <td>0.003918</td>\n",
       "      <td>0.124195</td>\n",
       "      <td>0.032807</td>\n",
       "      <td>0.013212</td>\n",
       "      <td>-0.030852</td>\n",
       "      <td>0.486350</td>\n",
       "      <td>1.000000</td>\n",
       "      <td>0.071890</td>\n",
       "      <td>0.039922</td>\n",
       "      <td>0.021008</td>\n",
       "      <td>-0.057415</td>\n",
       "      <td>-0.013591</td>\n",
       "      <td>-0.029082</td>\n",
       "      <td>0.081598</td>\n",
       "      <td>0.183281</td>\n",
       "      <td>-0.009330</td>\n",
       "      <td>0.036263</td>\n",
       "      <td>-0.016376</td>\n",
       "      <td>0.050318</td>\n",
       "    </tr>\n",
       "    <tr>\n",
       "      <th>adults</th>\n",
       "      <td>0.037057</td>\n",
       "      <td>0.072477</td>\n",
       "      <td>0.061359</td>\n",
       "      <td>0.003496</td>\n",
       "      <td>0.001151</td>\n",
       "      <td>0.070997</td>\n",
       "      <td>0.071890</td>\n",
       "      <td>1.000000</td>\n",
       "      <td>0.014385</td>\n",
       "      <td>0.013307</td>\n",
       "      <td>-0.073802</td>\n",
       "      <td>-0.003366</td>\n",
       "      <td>-0.054299</td>\n",
       "      <td>-0.051995</td>\n",
       "      <td>-0.034489</td>\n",
       "      <td>-0.022945</td>\n",
       "      <td>0.237099</td>\n",
       "      <td>0.036907</td>\n",
       "      <td>0.116793</td>\n",
       "    </tr>\n",
       "    <tr>\n",
       "      <th>children</th>\n",
       "      <td>0.005409</td>\n",
       "      <td>-0.049796</td>\n",
       "      <td>0.065394</td>\n",
       "      <td>-0.000687</td>\n",
       "      <td>0.013545</td>\n",
       "      <td>0.039961</td>\n",
       "      <td>0.039922</td>\n",
       "      <td>0.014385</td>\n",
       "      <td>1.000000</td>\n",
       "      <td>0.016742</td>\n",
       "      <td>-0.018975</td>\n",
       "      <td>-0.025070</td>\n",
       "      <td>-0.009899</td>\n",
       "      <td>0.055324</td>\n",
       "      <td>0.041242</td>\n",
       "      <td>-0.036455</td>\n",
       "      <td>0.335729</td>\n",
       "      <td>0.065531</td>\n",
       "      <td>0.068130</td>\n",
       "    </tr>\n",
       "    <tr>\n",
       "      <th>babies</th>\n",
       "      <td>-0.032038</td>\n",
       "      <td>-0.021975</td>\n",
       "      <td>-0.009828</td>\n",
       "      <td>0.007865</td>\n",
       "      <td>-0.002426</td>\n",
       "      <td>0.020068</td>\n",
       "      <td>0.021008</td>\n",
       "      <td>0.013307</td>\n",
       "      <td>0.016742</td>\n",
       "      <td>1.000000</td>\n",
       "      <td>-0.006906</td>\n",
       "      <td>-0.007150</td>\n",
       "      <td>-0.002595</td>\n",
       "      <td>0.094213</td>\n",
       "      <td>0.036338</td>\n",
       "      <td>-0.010894</td>\n",
       "      <td>0.025584</td>\n",
       "      <td>0.039087</td>\n",
       "      <td>0.091729</td>\n",
       "    </tr>\n",
       "    <tr>\n",
       "      <th>is_repeated_guest</th>\n",
       "      <td>-0.029913</td>\n",
       "      <td>-0.055432</td>\n",
       "      <td>-0.022428</td>\n",
       "      <td>-0.013250</td>\n",
       "      <td>-0.008447</td>\n",
       "      <td>-0.056987</td>\n",
       "      <td>-0.057415</td>\n",
       "      <td>-0.073802</td>\n",
       "      <td>-0.018975</td>\n",
       "      <td>-0.006906</td>\n",
       "      <td>1.000000</td>\n",
       "      <td>0.073284</td>\n",
       "      <td>0.396805</td>\n",
       "      <td>-0.000578</td>\n",
       "      <td>0.031624</td>\n",
       "      <td>-0.015835</td>\n",
       "      <td>-0.092619</td>\n",
       "      <td>0.028749</td>\n",
       "      <td>0.004312</td>\n",
       "    </tr>\n",
       "    <tr>\n",
       "      <th>previous_cancellations</th>\n",
       "      <td>0.117983</td>\n",
       "      <td>0.100271</td>\n",
       "      <td>-0.134031</td>\n",
       "      <td>0.042645</td>\n",
       "      <td>-0.024869</td>\n",
       "      <td>-0.003021</td>\n",
       "      <td>-0.013591</td>\n",
       "      <td>-0.003366</td>\n",
       "      <td>-0.025070</td>\n",
       "      <td>-0.007150</td>\n",
       "      <td>0.073284</td>\n",
       "      <td>1.000000</td>\n",
       "      <td>0.093910</td>\n",
       "      <td>-0.029375</td>\n",
       "      <td>-0.012382</td>\n",
       "      <td>0.005441</td>\n",
       "      <td>-0.072563</td>\n",
       "      <td>-0.022090</td>\n",
       "      <td>-0.061169</td>\n",
       "    </tr>\n",
       "    <tr>\n",
       "      <th>previous_bookings_not_canceled</th>\n",
       "      <td>-0.042589</td>\n",
       "      <td>-0.045082</td>\n",
       "      <td>0.015334</td>\n",
       "      <td>-0.025095</td>\n",
       "      <td>0.001447</td>\n",
       "      <td>-0.028041</td>\n",
       "      <td>-0.029082</td>\n",
       "      <td>-0.054299</td>\n",
       "      <td>-0.009899</td>\n",
       "      <td>-0.002595</td>\n",
       "      <td>0.396805</td>\n",
       "      <td>0.093910</td>\n",
       "      <td>1.000000</td>\n",
       "      <td>0.001504</td>\n",
       "      <td>0.021780</td>\n",
       "      <td>-0.006361</td>\n",
       "      <td>-0.040724</td>\n",
       "      <td>0.019996</td>\n",
       "      <td>0.017275</td>\n",
       "    </tr>\n",
       "    <tr>\n",
       "      <th>booking_changes</th>\n",
       "      <td>-0.131714</td>\n",
       "      <td>-0.000282</td>\n",
       "      <td>0.036468</td>\n",
       "      <td>0.008551</td>\n",
       "      <td>0.011505</td>\n",
       "      <td>0.054693</td>\n",
       "      <td>0.081598</td>\n",
       "      <td>-0.051995</td>\n",
       "      <td>0.055324</td>\n",
       "      <td>0.094213</td>\n",
       "      <td>-0.000578</td>\n",
       "      <td>-0.029375</td>\n",
       "      <td>0.001504</td>\n",
       "      <td>1.000000</td>\n",
       "      <td>0.067084</td>\n",
       "      <td>-0.009571</td>\n",
       "      <td>0.048051</td>\n",
       "      <td>0.059407</td>\n",
       "      <td>0.065417</td>\n",
       "    </tr>\n",
       "    <tr>\n",
       "      <th>agent</th>\n",
       "      <td>-0.081939</td>\n",
       "      <td>-0.068753</td>\n",
       "      <td>0.063684</td>\n",
       "      <td>-0.030993</td>\n",
       "      <td>0.001731</td>\n",
       "      <td>0.141387</td>\n",
       "      <td>0.183281</td>\n",
       "      <td>-0.034489</td>\n",
       "      <td>0.041242</td>\n",
       "      <td>0.036338</td>\n",
       "      <td>0.031624</td>\n",
       "      <td>-0.012382</td>\n",
       "      <td>0.021780</td>\n",
       "      <td>0.067084</td>\n",
       "      <td>1.000000</td>\n",
       "      <td>-0.055037</td>\n",
       "      <td>-0.023770</td>\n",
       "      <td>0.176875</td>\n",
       "      <td>0.033876</td>\n",
       "    </tr>\n",
       "    <tr>\n",
       "      <th>days_in_waiting_list</th>\n",
       "      <td>0.052475</td>\n",
       "      <td>0.170352</td>\n",
       "      <td>-0.061742</td>\n",
       "      <td>0.023822</td>\n",
       "      <td>0.024778</td>\n",
       "      <td>-0.064610</td>\n",
       "      <td>-0.009330</td>\n",
       "      <td>-0.022945</td>\n",
       "      <td>-0.036455</td>\n",
       "      <td>-0.010894</td>\n",
       "      <td>-0.015835</td>\n",
       "      <td>0.005441</td>\n",
       "      <td>-0.006361</td>\n",
       "      <td>-0.009571</td>\n",
       "      <td>-0.055037</td>\n",
       "      <td>1.000000</td>\n",
       "      <td>-0.052088</td>\n",
       "      <td>-0.032771</td>\n",
       "      <td>-0.092700</td>\n",
       "    </tr>\n",
       "    <tr>\n",
       "      <th>adr</th>\n",
       "      <td>0.023284</td>\n",
       "      <td>-0.112652</td>\n",
       "      <td>0.222059</td>\n",
       "      <td>0.062570</td>\n",
       "      <td>0.025590</td>\n",
       "      <td>0.016233</td>\n",
       "      <td>0.036263</td>\n",
       "      <td>0.237099</td>\n",
       "      <td>0.335729</td>\n",
       "      <td>0.025584</td>\n",
       "      <td>-0.092619</td>\n",
       "      <td>-0.072563</td>\n",
       "      <td>-0.040724</td>\n",
       "      <td>0.048051</td>\n",
       "      <td>-0.023770</td>\n",
       "      <td>-0.052088</td>\n",
       "      <td>1.000000</td>\n",
       "      <td>0.083796</td>\n",
       "      <td>0.166855</td>\n",
       "    </tr>\n",
       "    <tr>\n",
       "      <th>required_car_parking_spaces</th>\n",
       "      <td>-0.188298</td>\n",
       "      <td>-0.111226</td>\n",
       "      <td>-0.012864</td>\n",
       "      <td>-0.001477</td>\n",
       "      <td>0.004745</td>\n",
       "      <td>-0.011037</td>\n",
       "      <td>-0.016376</td>\n",
       "      <td>0.036907</td>\n",
       "      <td>0.065531</td>\n",
       "      <td>0.039087</td>\n",
       "      <td>0.028749</td>\n",
       "      <td>-0.022090</td>\n",
       "      <td>0.019996</td>\n",
       "      <td>0.059407</td>\n",
       "      <td>0.176875</td>\n",
       "      <td>-0.032771</td>\n",
       "      <td>0.083796</td>\n",
       "      <td>1.000000</td>\n",
       "      <td>0.089022</td>\n",
       "    </tr>\n",
       "    <tr>\n",
       "      <th>total_of_special_requests</th>\n",
       "      <td>-0.257934</td>\n",
       "      <td>-0.123047</td>\n",
       "      <td>0.121490</td>\n",
       "      <td>0.021639</td>\n",
       "      <td>0.002560</td>\n",
       "      <td>0.056110</td>\n",
       "      <td>0.050318</td>\n",
       "      <td>0.116793</td>\n",
       "      <td>0.068130</td>\n",
       "      <td>0.091729</td>\n",
       "      <td>0.004312</td>\n",
       "      <td>-0.061169</td>\n",
       "      <td>0.017275</td>\n",
       "      <td>0.065417</td>\n",
       "      <td>0.033876</td>\n",
       "      <td>-0.092700</td>\n",
       "      <td>0.166855</td>\n",
       "      <td>0.089022</td>\n",
       "      <td>1.000000</td>\n",
       "    </tr>\n",
       "  </tbody>\n",
       "</table>\n",
       "</div>"
      ],
      "text/plain": [
       "                                is_canceled  lead_time  arrival_date_year  \\\n",
       "is_canceled                        1.000000   0.277666           0.004561   \n",
       "lead_time                          0.277666   1.000000           0.041082   \n",
       "arrival_date_year                  0.004561   0.041082           1.000000   \n",
       "arrival_date_week_number           0.004172   0.120155          -0.530387   \n",
       "arrival_date_day_of_month         -0.005468  -0.003472           0.005206   \n",
       "stays_in_weekend_nights           -0.023589   0.047674           0.020693   \n",
       "stays_in_week_nights               0.003918   0.124195           0.032807   \n",
       "adults                             0.037057   0.072477           0.061359   \n",
       "children                           0.005409  -0.049796           0.065394   \n",
       "babies                            -0.032038  -0.021975          -0.009828   \n",
       "is_repeated_guest                 -0.029913  -0.055432          -0.022428   \n",
       "previous_cancellations             0.117983   0.100271          -0.134031   \n",
       "previous_bookings_not_canceled    -0.042589  -0.045082           0.015334   \n",
       "booking_changes                   -0.131714  -0.000282           0.036468   \n",
       "agent                             -0.081939  -0.068753           0.063684   \n",
       "days_in_waiting_list               0.052475   0.170352          -0.061742   \n",
       "adr                                0.023284  -0.112652           0.222059   \n",
       "required_car_parking_spaces       -0.188298  -0.111226          -0.012864   \n",
       "total_of_special_requests         -0.257934  -0.123047           0.121490   \n",
       "\n",
       "                                arrival_date_week_number  \\\n",
       "is_canceled                                     0.004172   \n",
       "lead_time                                       0.120155   \n",
       "arrival_date_year                              -0.530387   \n",
       "arrival_date_week_number                        1.000000   \n",
       "arrival_date_day_of_month                       0.057587   \n",
       "stays_in_weekend_nights                         0.010114   \n",
       "stays_in_week_nights                            0.013212   \n",
       "adults                                          0.003496   \n",
       "children                                       -0.000687   \n",
       "babies                                          0.007865   \n",
       "is_repeated_guest                              -0.013250   \n",
       "previous_cancellations                          0.042645   \n",
       "previous_bookings_not_canceled                 -0.025095   \n",
       "booking_changes                                 0.008551   \n",
       "agent                                          -0.030993   \n",
       "days_in_waiting_list                            0.023822   \n",
       "adr                                             0.062570   \n",
       "required_car_parking_spaces                    -0.001477   \n",
       "total_of_special_requests                       0.021639   \n",
       "\n",
       "                                arrival_date_day_of_month  \\\n",
       "is_canceled                                     -0.005468   \n",
       "lead_time                                       -0.003472   \n",
       "arrival_date_year                                0.005206   \n",
       "arrival_date_week_number                         0.057587   \n",
       "arrival_date_day_of_month                        1.000000   \n",
       "stays_in_weekend_nights                         -0.016510   \n",
       "stays_in_week_nights                            -0.030852   \n",
       "adults                                           0.001151   \n",
       "children                                         0.013545   \n",
       "babies                                          -0.002426   \n",
       "is_repeated_guest                               -0.008447   \n",
       "previous_cancellations                          -0.024869   \n",
       "previous_bookings_not_canceled                   0.001447   \n",
       "booking_changes                                  0.011505   \n",
       "agent                                            0.001731   \n",
       "days_in_waiting_list                             0.024778   \n",
       "adr                                              0.025590   \n",
       "required_car_parking_spaces                      0.004745   \n",
       "total_of_special_requests                        0.002560   \n",
       "\n",
       "                                stays_in_weekend_nights  stays_in_week_nights  \\\n",
       "is_canceled                                   -0.023589              0.003918   \n",
       "lead_time                                      0.047674              0.124195   \n",
       "arrival_date_year                              0.020693              0.032807   \n",
       "arrival_date_week_number                       0.010114              0.013212   \n",
       "arrival_date_day_of_month                     -0.016510             -0.030852   \n",
       "stays_in_weekend_nights                        1.000000              0.486350   \n",
       "stays_in_week_nights                           0.486350              1.000000   \n",
       "adults                                         0.070997              0.071890   \n",
       "children                                       0.039961              0.039922   \n",
       "babies                                         0.020068              0.021008   \n",
       "is_repeated_guest                             -0.056987             -0.057415   \n",
       "previous_cancellations                        -0.003021             -0.013591   \n",
       "previous_bookings_not_canceled                -0.028041             -0.029082   \n",
       "booking_changes                                0.054693              0.081598   \n",
       "agent                                          0.141387              0.183281   \n",
       "days_in_waiting_list                          -0.064610             -0.009330   \n",
       "adr                                            0.016233              0.036263   \n",
       "required_car_parking_spaces                   -0.011037             -0.016376   \n",
       "total_of_special_requests                      0.056110              0.050318   \n",
       "\n",
       "                                  adults  children    babies  \\\n",
       "is_canceled                     0.037057  0.005409 -0.032038   \n",
       "lead_time                       0.072477 -0.049796 -0.021975   \n",
       "arrival_date_year               0.061359  0.065394 -0.009828   \n",
       "arrival_date_week_number        0.003496 -0.000687  0.007865   \n",
       "arrival_date_day_of_month       0.001151  0.013545 -0.002426   \n",
       "stays_in_weekend_nights         0.070997  0.039961  0.020068   \n",
       "stays_in_week_nights            0.071890  0.039922  0.021008   \n",
       "adults                          1.000000  0.014385  0.013307   \n",
       "children                        0.014385  1.000000  0.016742   \n",
       "babies                          0.013307  0.016742  1.000000   \n",
       "is_repeated_guest              -0.073802 -0.018975 -0.006906   \n",
       "previous_cancellations         -0.003366 -0.025070 -0.007150   \n",
       "previous_bookings_not_canceled -0.054299 -0.009899 -0.002595   \n",
       "booking_changes                -0.051995  0.055324  0.094213   \n",
       "agent                          -0.034489  0.041242  0.036338   \n",
       "days_in_waiting_list           -0.022945 -0.036455 -0.010894   \n",
       "adr                             0.237099  0.335729  0.025584   \n",
       "required_car_parking_spaces     0.036907  0.065531  0.039087   \n",
       "total_of_special_requests       0.116793  0.068130  0.091729   \n",
       "\n",
       "                                is_repeated_guest  previous_cancellations  \\\n",
       "is_canceled                             -0.029913                0.117983   \n",
       "lead_time                               -0.055432                0.100271   \n",
       "arrival_date_year                       -0.022428               -0.134031   \n",
       "arrival_date_week_number                -0.013250                0.042645   \n",
       "arrival_date_day_of_month               -0.008447               -0.024869   \n",
       "stays_in_weekend_nights                 -0.056987               -0.003021   \n",
       "stays_in_week_nights                    -0.057415               -0.013591   \n",
       "adults                                  -0.073802               -0.003366   \n",
       "children                                -0.018975               -0.025070   \n",
       "babies                                  -0.006906               -0.007150   \n",
       "is_repeated_guest                        1.000000                0.073284   \n",
       "previous_cancellations                   0.073284                1.000000   \n",
       "previous_bookings_not_canceled           0.396805                0.093910   \n",
       "booking_changes                         -0.000578               -0.029375   \n",
       "agent                                    0.031624               -0.012382   \n",
       "days_in_waiting_list                    -0.015835                0.005441   \n",
       "adr                                     -0.092619               -0.072563   \n",
       "required_car_parking_spaces              0.028749               -0.022090   \n",
       "total_of_special_requests                0.004312               -0.061169   \n",
       "\n",
       "                                previous_bookings_not_canceled  \\\n",
       "is_canceled                                          -0.042589   \n",
       "lead_time                                            -0.045082   \n",
       "arrival_date_year                                     0.015334   \n",
       "arrival_date_week_number                             -0.025095   \n",
       "arrival_date_day_of_month                             0.001447   \n",
       "stays_in_weekend_nights                              -0.028041   \n",
       "stays_in_week_nights                                 -0.029082   \n",
       "adults                                               -0.054299   \n",
       "children                                             -0.009899   \n",
       "babies                                               -0.002595   \n",
       "is_repeated_guest                                     0.396805   \n",
       "previous_cancellations                                0.093910   \n",
       "previous_bookings_not_canceled                        1.000000   \n",
       "booking_changes                                       0.001504   \n",
       "agent                                                 0.021780   \n",
       "days_in_waiting_list                                 -0.006361   \n",
       "adr                                                  -0.040724   \n",
       "required_car_parking_spaces                           0.019996   \n",
       "total_of_special_requests                             0.017275   \n",
       "\n",
       "                                booking_changes     agent  \\\n",
       "is_canceled                           -0.131714 -0.081939   \n",
       "lead_time                             -0.000282 -0.068753   \n",
       "arrival_date_year                      0.036468  0.063684   \n",
       "arrival_date_week_number               0.008551 -0.030993   \n",
       "arrival_date_day_of_month              0.011505  0.001731   \n",
       "stays_in_weekend_nights                0.054693  0.141387   \n",
       "stays_in_week_nights                   0.081598  0.183281   \n",
       "adults                                -0.051995 -0.034489   \n",
       "children                               0.055324  0.041242   \n",
       "babies                                 0.094213  0.036338   \n",
       "is_repeated_guest                     -0.000578  0.031624   \n",
       "previous_cancellations                -0.029375 -0.012382   \n",
       "previous_bookings_not_canceled         0.001504  0.021780   \n",
       "booking_changes                        1.000000  0.067084   \n",
       "agent                                  0.067084  1.000000   \n",
       "days_in_waiting_list                  -0.009571 -0.055037   \n",
       "adr                                    0.048051 -0.023770   \n",
       "required_car_parking_spaces            0.059407  0.176875   \n",
       "total_of_special_requests              0.065417  0.033876   \n",
       "\n",
       "                                days_in_waiting_list       adr  \\\n",
       "is_canceled                                 0.052475  0.023284   \n",
       "lead_time                                   0.170352 -0.112652   \n",
       "arrival_date_year                          -0.061742  0.222059   \n",
       "arrival_date_week_number                    0.023822  0.062570   \n",
       "arrival_date_day_of_month                   0.024778  0.025590   \n",
       "stays_in_weekend_nights                    -0.064610  0.016233   \n",
       "stays_in_week_nights                       -0.009330  0.036263   \n",
       "adults                                     -0.022945  0.237099   \n",
       "children                                   -0.036455  0.335729   \n",
       "babies                                     -0.010894  0.025584   \n",
       "is_repeated_guest                          -0.015835 -0.092619   \n",
       "previous_cancellations                      0.005441 -0.072563   \n",
       "previous_bookings_not_canceled             -0.006361 -0.040724   \n",
       "booking_changes                            -0.009571  0.048051   \n",
       "agent                                      -0.055037 -0.023770   \n",
       "days_in_waiting_list                        1.000000 -0.052088   \n",
       "adr                                        -0.052088  1.000000   \n",
       "required_car_parking_spaces                -0.032771  0.083796   \n",
       "total_of_special_requests                  -0.092700  0.166855   \n",
       "\n",
       "                                required_car_parking_spaces  \\\n",
       "is_canceled                                       -0.188298   \n",
       "lead_time                                         -0.111226   \n",
       "arrival_date_year                                 -0.012864   \n",
       "arrival_date_week_number                          -0.001477   \n",
       "arrival_date_day_of_month                          0.004745   \n",
       "stays_in_weekend_nights                           -0.011037   \n",
       "stays_in_week_nights                              -0.016376   \n",
       "adults                                             0.036907   \n",
       "children                                           0.065531   \n",
       "babies                                             0.039087   \n",
       "is_repeated_guest                                  0.028749   \n",
       "previous_cancellations                            -0.022090   \n",
       "previous_bookings_not_canceled                     0.019996   \n",
       "booking_changes                                    0.059407   \n",
       "agent                                              0.176875   \n",
       "days_in_waiting_list                              -0.032771   \n",
       "adr                                                0.083796   \n",
       "required_car_parking_spaces                        1.000000   \n",
       "total_of_special_requests                          0.089022   \n",
       "\n",
       "                                total_of_special_requests  \n",
       "is_canceled                                     -0.257934  \n",
       "lead_time                                       -0.123047  \n",
       "arrival_date_year                                0.121490  \n",
       "arrival_date_week_number                         0.021639  \n",
       "arrival_date_day_of_month                        0.002560  \n",
       "stays_in_weekend_nights                          0.056110  \n",
       "stays_in_week_nights                             0.050318  \n",
       "adults                                           0.116793  \n",
       "children                                         0.068130  \n",
       "babies                                           0.091729  \n",
       "is_repeated_guest                                0.004312  \n",
       "previous_cancellations                          -0.061169  \n",
       "previous_bookings_not_canceled                   0.017275  \n",
       "booking_changes                                  0.065417  \n",
       "agent                                            0.033876  \n",
       "days_in_waiting_list                            -0.092700  \n",
       "adr                                              0.166855  \n",
       "required_car_parking_spaces                      0.089022  \n",
       "total_of_special_requests                        1.000000  "
      ]
     },
     "execution_count": 18,
     "metadata": {},
     "output_type": "execute_result"
    }
   ],
   "source": [
    "df.corr()"
   ]
  },
  {
   "cell_type": "code",
   "execution_count": 19,
   "id": "f525aecf",
   "metadata": {
    "execution": {
     "iopub.execute_input": "2023-05-16T11:26:42.762269Z",
     "iopub.status.busy": "2023-05-16T11:26:42.761839Z",
     "iopub.status.idle": "2023-05-16T11:26:45.021986Z",
     "shell.execute_reply": "2023-05-16T11:26:45.020921Z"
    },
    "papermill": {
     "duration": 2.298303,
     "end_time": "2023-05-16T11:26:45.027354",
     "exception": false,
     "start_time": "2023-05-16T11:26:42.729051",
     "status": "completed"
    },
    "tags": []
   },
   "outputs": [
    {
     "data": {
      "image/png": "[encoded data removed]",
      "text/plain": [
       "<Figure size 1008x1008 with 2 Axes>"
      ]
     },
     "metadata": {
      "needs_background": "light"
     },
     "output_type": "display_data"
    }
   ],
   "source": [
    "plt.figure(figsize=(14,14))\n",
    "sns.heatmap(df.corr(),annot=True)\n",
    "plt.title(\"Correlation between columns \")\n",
    "plt.show()"
   ]
  },
  {
   "cell_type": "markdown",
   "id": "d003830f",
   "metadata": {
    "papermill": {
     "duration": 0.033605,
     "end_time": "2023-05-16T11:26:45.096843",
     "exception": false,
     "start_time": "2023-05-16T11:26:45.063238",
     "status": "completed"
    },
    "tags": []
   },
   "source": [
    "## Exploratory Data Analysis"
   ]
  },
  {
   "cell_type": "markdown",
   "id": "7118cb20",
   "metadata": {
    "papermill": {
     "duration": 0.033919,
     "end_time": "2023-05-16T11:26:45.164748",
     "exception": false,
     "start_time": "2023-05-16T11:26:45.130829",
     "status": "completed"
    },
    "tags": []
   },
   "source": [
    "## Univariate analysis"
   ]
  },
  {
   "cell_type": "markdown",
   "id": "fa8c63fa",
   "metadata": {
    "papermill": {
     "duration": 0.033664,
     "end_time": "2023-05-16T11:26:45.232458",
     "exception": false,
     "start_time": "2023-05-16T11:26:45.198794",
     "status": "completed"
    },
    "tags": []
   },
   "source": [
    "We will start by visualizing the cancellation rate, which is the proportion of bookings that were ultimately canceled."
   ]
  },
  {
   "cell_type": "markdown",
   "id": "88ce514c",
   "metadata": {
    "papermill": {
     "duration": 0.033634,
     "end_time": "2023-05-16T11:26:45.300238",
     "exception": false,
     "start_time": "2023-05-16T11:26:45.266604",
     "status": "completed"
    },
    "tags": []
   },
   "source": [
    "# EDA"
   ]
  },
  {
   "cell_type": "markdown",
   "id": "9a75a818",
   "metadata": {
    "papermill": {
     "duration": 0.033653,
     "end_time": "2023-05-16T11:26:45.368072",
     "exception": false,
     "start_time": "2023-05-16T11:26:45.334419",
     "status": "completed"
    },
    "tags": []
   },
   "source": [
    "## Hotel Column"
   ]
  },
  {
   "cell_type": "markdown",
   "id": "575d2cd4",
   "metadata": {
    "papermill": {
     "duration": 0.03453,
     "end_time": "2023-05-16T11:26:45.437629",
     "exception": false,
     "start_time": "2023-05-16T11:26:45.403099",
     "status": "completed"
    },
    "tags": []
   },
   "source": [
    "## Distribution of hotel on the basis of there categories"
   ]
  },
  {
   "cell_type": "code",
   "execution_count": 20,
   "id": "96575ef0",
   "metadata": {
    "execution": {
     "iopub.execute_input": "2023-05-16T11:26:45.509934Z",
     "iopub.status.busy": "2023-05-16T11:26:45.509140Z",
     "iopub.status.idle": "2023-05-16T11:26:45.776518Z",
     "shell.execute_reply": "2023-05-16T11:26:45.774433Z"
    },
    "papermill": {
     "duration": 0.309668,
     "end_time": "2023-05-16T11:26:45.781639",
     "exception": false,
     "start_time": "2023-05-16T11:26:45.471971",
     "status": "completed"
    },
    "tags": []
   },
   "outputs": [
    {
     "data": {
      "image/png": "[encoded data removed]",
      "text/plain": [
       "<Figure size 504x576 with 1 Axes>"
      ]
     },
     "metadata": {},
     "output_type": "display_data"
    }
   ],
   "source": [
    "plt.figure(figsize=(7,8))\n",
    "plt.pie(df.hotel.value_counts().values,explode=[0,0.2],labels=df.hotel.value_counts().index,autopct='%.2f%%')\n",
    "plt.legend()\n",
    "plt.title('Distribution of the type of Hotels')\n",
    "plt.show()"
   ]
  },
  {
   "cell_type": "markdown",
   "id": "139bdb1e",
   "metadata": {
    "papermill": {
     "duration": 0.03533,
     "end_time": "2023-05-16T11:26:45.855345",
     "exception": false,
     "start_time": "2023-05-16T11:26:45.820015",
     "status": "completed"
    },
    "tags": []
   },
   "source": [
    "From this graph we can see that City Hotel has more booking than Resort Hotel"
   ]
  },
  {
   "cell_type": "markdown",
   "id": "448e03e2",
   "metadata": {
    "papermill": {
     "duration": 0.035137,
     "end_time": "2023-05-16T11:26:45.925213",
     "exception": false,
     "start_time": "2023-05-16T11:26:45.890076",
     "status": "completed"
    },
    "tags": []
   },
   "source": [
    "## What are the comman arival dates "
   ]
  },
  {
   "cell_type": "code",
   "execution_count": 21,
   "id": "9503e20d",
   "metadata": {
    "execution": {
     "iopub.execute_input": "2023-05-16T11:26:45.998440Z",
     "iopub.status.busy": "2023-05-16T11:26:45.997345Z",
     "iopub.status.idle": "2023-05-16T11:26:46.006332Z",
     "shell.execute_reply": "2023-05-16T11:26:46.004960Z"
    },
    "papermill": {
     "duration": 0.049057,
     "end_time": "2023-05-16T11:26:46.009354",
     "exception": false,
     "start_time": "2023-05-16T11:26:45.960297",
     "status": "completed"
    },
    "tags": []
   },
   "outputs": [
    {
     "data": {
      "text/plain": [
       "array([2015, 2016, 2017])"
      ]
     },
     "execution_count": 21,
     "metadata": {},
     "output_type": "execute_result"
    }
   ],
   "source": [
    "df['arrival_date_year'].unique()"
   ]
  },
  {
   "cell_type": "code",
   "execution_count": 22,
   "id": "e8399cf2",
   "metadata": {
    "execution": {
     "iopub.execute_input": "2023-05-16T11:26:46.082694Z",
     "iopub.status.busy": "2023-05-16T11:26:46.082220Z",
     "iopub.status.idle": "2023-05-16T11:26:48.031403Z",
     "shell.execute_reply": "2023-05-16T11:26:48.030103Z"
    },
    "papermill": {
     "duration": 1.989184,
     "end_time": "2023-05-16T11:26:48.034394",
     "exception": false,
     "start_time": "2023-05-16T11:26:46.045210",
     "status": "completed"
    },
    "tags": []
   },
   "outputs": [
    {
     "data": {
      "image/png": "[encoded data removed]",
      "text/plain": [
       "<Figure size 720x648 with 1 Axes>"
      ]
     },
     "metadata": {
      "needs_background": "light"
     },
     "output_type": "display_data"
    }
   ],
   "source": [
    "plt.figure(figsize=(10,9))\n",
    "sns.lineplot(data=df,x='arrival_date_month',y='arrival_date_year')\n",
    "plt.xlabel('Arrival date month')\n",
    "plt.ylabel('Arrival date year')\n",
    "plt.title('Hotel With booking year')\n",
    "plt.show()"
   ]
  },
  {
   "cell_type": "markdown",
   "id": "e9e28846",
   "metadata": {
    "papermill": {
     "duration": 0.038774,
     "end_time": "2023-05-16T11:26:48.108809",
     "exception": false,
     "start_time": "2023-05-16T11:26:48.070035",
     "status": "completed"
    },
    "tags": []
   },
   "source": [
    "- Peak point on January\n",
    "- And the Continue to feb to june"
   ]
  },
  {
   "cell_type": "markdown",
   "id": "6a27f82d",
   "metadata": {
    "papermill": {
     "duration": 0.036297,
     "end_time": "2023-05-16T11:26:48.181118",
     "exception": false,
     "start_time": "2023-05-16T11:26:48.144821",
     "status": "completed"
    },
    "tags": []
   },
   "source": [
    "## Canceled Booking "
   ]
  },
  {
   "cell_type": "markdown",
   "id": "5b9c5c2e",
   "metadata": {
    "papermill": {
     "duration": 0.036313,
     "end_time": "2023-05-16T11:26:48.254267",
     "exception": false,
     "start_time": "2023-05-16T11:26:48.217954",
     "status": "completed"
    },
    "tags": []
   },
   "source": [
    "## How many booking got cancelled ?"
   ]
  },
  {
   "cell_type": "code",
   "execution_count": 23,
   "id": "48243d24",
   "metadata": {
    "execution": {
     "iopub.execute_input": "2023-05-16T11:26:48.327180Z",
     "iopub.status.busy": "2023-05-16T11:26:48.326758Z",
     "iopub.status.idle": "2023-05-16T11:26:48.335987Z",
     "shell.execute_reply": "2023-05-16T11:26:48.334640Z"
    },
    "papermill": {
     "duration": 0.048633,
     "end_time": "2023-05-16T11:26:48.338469",
     "exception": false,
     "start_time": "2023-05-16T11:26:48.289836",
     "status": "completed"
    },
    "tags": []
   },
   "outputs": [
    {
     "data": {
      "text/plain": [
       "array([0, 1])"
      ]
     },
     "execution_count": 23,
     "metadata": {},
     "output_type": "execute_result"
    }
   ],
   "source": [
    "df[\"is_canceled\"].unique()"
   ]
  },
  {
   "cell_type": "code",
   "execution_count": 24,
   "id": "3385f546",
   "metadata": {
    "execution": {
     "iopub.execute_input": "2023-05-16T11:26:48.412484Z",
     "iopub.status.busy": "2023-05-16T11:26:48.412020Z",
     "iopub.status.idle": "2023-05-16T11:26:48.620821Z",
     "shell.execute_reply": "2023-05-16T11:26:48.619309Z"
    },
    "papermill": {
     "duration": 0.249528,
     "end_time": "2023-05-16T11:26:48.623753",
     "exception": false,
     "start_time": "2023-05-16T11:26:48.374225",
     "status": "completed"
    },
    "tags": []
   },
   "outputs": [
    {
     "data": {
      "image/png": "[encoded data removed]",
      "text/plain": [
       "<Figure size 432x288 with 1 Axes>"
      ]
     },
     "metadata": {
      "needs_background": "light"
     },
     "output_type": "display_data"
    }
   ],
   "source": [
    "plt.legend()\n",
    "sns.countplot(df[\"is_canceled\"])\n",
    "plt.title(\"Canceled or not\")\n",
    "plt.show()"
   ]
  },
  {
   "cell_type": "markdown",
   "id": "63f3e768",
   "metadata": {
    "papermill": {
     "duration": 0.036223,
     "end_time": "2023-05-16T11:26:48.696323",
     "exception": false,
     "start_time": "2023-05-16T11:26:48.660100",
     "status": "completed"
    },
    "tags": []
   },
   "source": [
    "## Or pie chart tells the distribution"
   ]
  },
  {
   "cell_type": "code",
   "execution_count": 25,
   "id": "8e2a98a4",
   "metadata": {
    "execution": {
     "iopub.execute_input": "2023-05-16T11:26:48.771557Z",
     "iopub.status.busy": "2023-05-16T11:26:48.771055Z",
     "iopub.status.idle": "2023-05-16T11:26:48.972072Z",
     "shell.execute_reply": "2023-05-16T11:26:48.970208Z"
    },
    "papermill": {
     "duration": 0.243995,
     "end_time": "2023-05-16T11:26:48.977018",
     "exception": false,
     "start_time": "2023-05-16T11:26:48.733023",
     "status": "completed"
    },
    "tags": []
   },
   "outputs": [
    {
     "data": {
      "image/png": "[encoded data removed]",
      "text/plain": [
       "<Figure size 432x288 with 1 Axes>"
      ]
     },
     "metadata": {},
     "output_type": "display_data"
    }
   ],
   "source": [
    "l1=[\"Not_canceled\",\"Canceled\"]\n",
    "l=list(df[\"is_canceled\"].value_counts())\n",
    "l\n",
    "plt.pie(l,labels=l1,autopct=\"%0.0f%%\");\n",
    "plt.legend()\n",
    "plt.title(\"Canceled or not\")\n",
    "plt.show()"
   ]
  },
  {
   "cell_type": "markdown",
   "id": "5c41caa2",
   "metadata": {
    "execution": {
     "iopub.execute_input": "2023-01-04T15:13:05.812097Z",
     "iopub.status.busy": "2023-01-04T15:13:05.811304Z",
     "iopub.status.idle": "2023-01-04T15:13:05.823976Z",
     "shell.execute_reply": "2023-01-04T15:13:05.822682Z",
     "shell.execute_reply.started": "2023-01-04T15:13:05.812050Z"
    },
    "papermill": {
     "duration": 0.036191,
     "end_time": "2023-05-16T11:26:49.066717",
     "exception": false,
     "start_time": "2023-05-16T11:26:49.030526",
     "status": "completed"
    },
    "tags": []
   },
   "source": [
    "- Almost 40 % of booking get canceled"
   ]
  },
  {
   "cell_type": "markdown",
   "id": "acdecc14",
   "metadata": {
    "papermill": {
     "duration": 0.036396,
     "end_time": "2023-05-16T11:26:49.139675",
     "exception": false,
     "start_time": "2023-05-16T11:26:49.103279",
     "status": "completed"
    },
    "tags": []
   },
   "source": [
    "## Deposit Type"
   ]
  },
  {
   "cell_type": "markdown",
   "id": "603455eb",
   "metadata": {
    "papermill": {
     "duration": 0.038352,
     "end_time": "2023-05-16T11:26:49.214686",
     "exception": false,
     "start_time": "2023-05-16T11:26:49.176334",
     "status": "completed"
    },
    "tags": []
   },
   "source": [
    "## Which type of booking (deposit type) is prefered ?"
   ]
  },
  {
   "cell_type": "code",
   "execution_count": 26,
   "id": "ea690531",
   "metadata": {
    "execution": {
     "iopub.execute_input": "2023-05-16T11:26:49.291026Z",
     "iopub.status.busy": "2023-05-16T11:26:49.289748Z",
     "iopub.status.idle": "2023-05-16T11:26:49.310441Z",
     "shell.execute_reply": "2023-05-16T11:26:49.309190Z"
    },
    "papermill": {
     "duration": 0.06179,
     "end_time": "2023-05-16T11:26:49.313249",
     "exception": false,
     "start_time": "2023-05-16T11:26:49.251459",
     "status": "completed"
    },
    "tags": []
   },
   "outputs": [
    {
     "data": {
      "text/plain": [
       "array(['No Deposit', 'Refundable', 'Non Refund'], dtype=object)"
      ]
     },
     "execution_count": 26,
     "metadata": {},
     "output_type": "execute_result"
    }
   ],
   "source": [
    "df[\"deposit_type\"].unique()"
   ]
  },
  {
   "cell_type": "code",
   "execution_count": 27,
   "id": "0d92ee71",
   "metadata": {
    "execution": {
     "iopub.execute_input": "2023-05-16T11:26:49.388451Z",
     "iopub.status.busy": "2023-05-16T11:26:49.387974Z",
     "iopub.status.idle": "2023-05-16T11:26:49.719339Z",
     "shell.execute_reply": "2023-05-16T11:26:49.718304Z"
    },
    "papermill": {
     "duration": 0.371903,
     "end_time": "2023-05-16T11:26:49.722033",
     "exception": false,
     "start_time": "2023-05-16T11:26:49.350130",
     "status": "completed"
    },
    "tags": []
   },
   "outputs": [
    {
     "data": {
      "image/png": "[encoded data removed]",
      "text/plain": [
       "<Figure size 432x288 with 1 Axes>"
      ]
     },
     "metadata": {
      "needs_background": "light"
     },
     "output_type": "display_data"
    }
   ],
   "source": [
    "sns.countplot(df[\"deposit_type\"])\n",
    "plt.legend()\n",
    "plt.title(\"Deposit Type\")\n",
    "plt.show()"
   ]
  },
  {
   "cell_type": "markdown",
   "id": "db6702db",
   "metadata": {
    "papermill": {
     "duration": 0.039873,
     "end_time": "2023-05-16T11:26:49.800955",
     "exception": false,
     "start_time": "2023-05-16T11:26:49.761082",
     "status": "completed"
    },
    "tags": []
   },
   "source": [
    "- According to the data the deposit type is no deposit.\n",
    "- And Refundable is not visible in the graph so it's almost 0"
   ]
  },
  {
   "cell_type": "markdown",
   "id": "fbde96d1",
   "metadata": {
    "papermill": {
     "duration": 0.038348,
     "end_time": "2023-05-16T11:26:49.878820",
     "exception": false,
     "start_time": "2023-05-16T11:26:49.840472",
     "status": "completed"
    },
    "tags": []
   },
   "source": [
    "## Customer Type"
   ]
  },
  {
   "cell_type": "markdown",
   "id": "df2b4434",
   "metadata": {
    "papermill": {
     "duration": 0.036897,
     "end_time": "2023-05-16T11:26:49.953024",
     "exception": false,
     "start_time": "2023-05-16T11:26:49.916127",
     "status": "completed"
    },
    "tags": []
   },
   "source": [
    "Popular types of hotel distribution channels:\n",
    "\n",
    "1. Direct website bookings \n",
    "2. Direct phone bookings \n",
    "3. Online travel agencies (OTAs) \n",
    "4. Global distribution systems \n",
    "5. Metasearch sites "
   ]
  },
  {
   "cell_type": "markdown",
   "id": "23f9cc33",
   "metadata": {
    "papermill": {
     "duration": 0.038107,
     "end_time": "2023-05-16T11:26:50.029234",
     "exception": false,
     "start_time": "2023-05-16T11:26:49.991127",
     "status": "completed"
    },
    "tags": []
   },
   "source": [
    "## Which kind of customer are there ?"
   ]
  },
  {
   "cell_type": "code",
   "execution_count": 28,
   "id": "fd7c388c",
   "metadata": {
    "execution": {
     "iopub.execute_input": "2023-05-16T11:26:50.111290Z",
     "iopub.status.busy": "2023-05-16T11:26:50.110029Z",
     "iopub.status.idle": "2023-05-16T11:26:50.128758Z",
     "shell.execute_reply": "2023-05-16T11:26:50.127921Z"
    },
    "papermill": {
     "duration": 0.060578,
     "end_time": "2023-05-16T11:26:50.131198",
     "exception": false,
     "start_time": "2023-05-16T11:26:50.070620",
     "status": "completed"
    },
    "tags": []
   },
   "outputs": [
    {
     "data": {
      "text/plain": [
       "array(['Transient', 'Contract', 'Transient-Party', 'Group'], dtype=object)"
      ]
     },
     "execution_count": 28,
     "metadata": {},
     "output_type": "execute_result"
    }
   ],
   "source": [
    "df[\"customer_type\"].unique()"
   ]
  },
  {
   "cell_type": "code",
   "execution_count": 29,
   "id": "a671cdf2",
   "metadata": {
    "execution": {
     "iopub.execute_input": "2023-05-16T11:26:50.208481Z",
     "iopub.status.busy": "2023-05-16T11:26:50.207807Z",
     "iopub.status.idle": "2023-05-16T11:26:50.557418Z",
     "shell.execute_reply": "2023-05-16T11:26:50.556472Z"
    },
    "papermill": {
     "duration": 0.391563,
     "end_time": "2023-05-16T11:26:50.560085",
     "exception": false,
     "start_time": "2023-05-16T11:26:50.168522",
     "status": "completed"
    },
    "tags": []
   },
   "outputs": [
    {
     "data": {
      "image/png": "[encoded data removed]",
      "text/plain": [
       "<Figure size 432x288 with 1 Axes>"
      ]
     },
     "metadata": {
      "needs_background": "light"
     },
     "output_type": "display_data"
    }
   ],
   "source": [
    "sns.countplot(df[\"customer_type\"])\n",
    "plt.legend()\n",
    "plt.title(\"Customer Type\")\n",
    "plt.show()"
   ]
  },
  {
   "cell_type": "markdown",
   "id": "5918dc36",
   "metadata": {
    "papermill": {
     "duration": 0.037685,
     "end_time": "2023-05-16T11:26:50.635969",
     "exception": false,
     "start_time": "2023-05-16T11:26:50.598284",
     "status": "completed"
    },
    "tags": []
   },
   "source": [
    "## ***Distribution***"
   ]
  },
  {
   "cell_type": "code",
   "execution_count": 30,
   "id": "f9064f4c",
   "metadata": {
    "execution": {
     "iopub.execute_input": "2023-05-16T11:26:50.714966Z",
     "iopub.status.busy": "2023-05-16T11:26:50.714285Z",
     "iopub.status.idle": "2023-05-16T11:26:50.722495Z",
     "shell.execute_reply": "2023-05-16T11:26:50.721399Z"
    },
    "papermill": {
     "duration": 0.0507,
     "end_time": "2023-05-16T11:26:50.725387",
     "exception": false,
     "start_time": "2023-05-16T11:26:50.674687",
     "status": "completed"
    },
    "tags": []
   },
   "outputs": [
    {
     "data": {
      "text/plain": [
       "3         Corporate\n",
       "4             TA/TO\n",
       "5             TA/TO\n",
       "7            Direct\n",
       "8             TA/TO\n",
       "            ...    \n",
       "119385        TA/TO\n",
       "119386        TA/TO\n",
       "119387        TA/TO\n",
       "119388        TA/TO\n",
       "119389        TA/TO\n",
       "Name: distribution_channel, Length: 102894, dtype: object"
      ]
     },
     "execution_count": 30,
     "metadata": {},
     "output_type": "execute_result"
    }
   ],
   "source": [
    "(df[\"distribution_channel\"])"
   ]
  },
  {
   "cell_type": "markdown",
   "id": "0e866414",
   "metadata": {
    "papermill": {
     "duration": 0.037273,
     "end_time": "2023-05-16T11:26:50.801322",
     "exception": false,
     "start_time": "2023-05-16T11:26:50.764049",
     "status": "completed"
    },
    "tags": []
   },
   "source": [
    "## **Which distribution have maximum values ?**"
   ]
  },
  {
   "cell_type": "code",
   "execution_count": 31,
   "id": "590084de",
   "metadata": {
    "execution": {
     "iopub.execute_input": "2023-05-16T11:26:50.879160Z",
     "iopub.status.busy": "2023-05-16T11:26:50.878736Z",
     "iopub.status.idle": "2023-05-16T11:26:51.218076Z",
     "shell.execute_reply": "2023-05-16T11:26:51.216925Z"
    },
    "papermill": {
     "duration": 0.381527,
     "end_time": "2023-05-16T11:26:51.220989",
     "exception": false,
     "start_time": "2023-05-16T11:26:50.839462",
     "status": "completed"
    },
    "tags": []
   },
   "outputs": [
    {
     "data": {
      "image/png": "[encoded data removed]",
      "text/plain": [
       "<Figure size 432x288 with 1 Axes>"
      ]
     },
     "metadata": {
      "needs_background": "light"
     },
     "output_type": "display_data"
    }
   ],
   "source": [
    "sns.countplot(df[\"distribution_channel\"])\n",
    "plt.legend()\n",
    "plt.title(\"Distribution Channel\")\n",
    "plt.show()"
   ]
  },
  {
   "cell_type": "markdown",
   "id": "2d0130e0",
   "metadata": {
    "papermill": {
     "duration": 0.038967,
     "end_time": "2023-05-16T11:26:51.299316",
     "exception": false,
     "start_time": "2023-05-16T11:26:51.260349",
     "status": "completed"
    },
    "tags": []
   },
   "source": [
    "- TA/TO distribution channel is mostly used\n",
    "- GDS is less used "
   ]
  },
  {
   "cell_type": "markdown",
   "id": "e601f51a",
   "metadata": {
    "papermill": {
     "duration": 0.037902,
     "end_time": "2023-05-16T11:26:51.375922",
     "exception": false,
     "start_time": "2023-05-16T11:26:51.338020",
     "status": "completed"
    },
    "tags": []
   },
   "source": [
    "## Reserve room type"
   ]
  },
  {
   "cell_type": "code",
   "execution_count": 32,
   "id": "8ca20235",
   "metadata": {
    "execution": {
     "iopub.execute_input": "2023-05-16T11:26:51.455583Z",
     "iopub.status.busy": "2023-05-16T11:26:51.454805Z",
     "iopub.status.idle": "2023-05-16T11:26:51.471079Z",
     "shell.execute_reply": "2023-05-16T11:26:51.470122Z"
    },
    "papermill": {
     "duration": 0.058459,
     "end_time": "2023-05-16T11:26:51.473673",
     "exception": false,
     "start_time": "2023-05-16T11:26:51.415214",
     "status": "completed"
    },
    "tags": []
   },
   "outputs": [
    {
     "data": {
      "text/plain": [
       "array(['A', 'C', 'D', 'E', 'G', 'F', 'H', 'B'], dtype=object)"
      ]
     },
     "execution_count": 32,
     "metadata": {},
     "output_type": "execute_result"
    }
   ],
   "source": [
    "df[\"reserved_room_type\"].unique()"
   ]
  },
  {
   "cell_type": "markdown",
   "id": "508c2600",
   "metadata": {
    "papermill": {
     "duration": 0.037961,
     "end_time": "2023-05-16T11:26:51.550692",
     "exception": false,
     "start_time": "2023-05-16T11:26:51.512731",
     "status": "completed"
    },
    "tags": []
   },
   "source": [
    "## Which type of room is reserved ?"
   ]
  },
  {
   "cell_type": "code",
   "execution_count": 33,
   "id": "360874f5",
   "metadata": {
    "execution": {
     "iopub.execute_input": "2023-05-16T11:26:51.631173Z",
     "iopub.status.busy": "2023-05-16T11:26:51.630389Z",
     "iopub.status.idle": "2023-05-16T11:26:52.006602Z",
     "shell.execute_reply": "2023-05-16T11:26:52.005247Z"
    },
    "papermill": {
     "duration": 0.420821,
     "end_time": "2023-05-16T11:26:52.009879",
     "exception": false,
     "start_time": "2023-05-16T11:26:51.589058",
     "status": "completed"
    },
    "tags": []
   },
   "outputs": [
    {
     "data": {
      "image/png": "[encoded data removed]",
      "text/plain": [
       "<Figure size 432x288 with 1 Axes>"
      ]
     },
     "metadata": {
      "needs_background": "light"
     },
     "output_type": "display_data"
    }
   ],
   "source": [
    "sns.countplot(df[\"reserved_room_type\"])\n",
    "plt.legend()\n",
    "plt.title(\"Reserved_room_type\")\n",
    "plt.show()"
   ]
  },
  {
   "cell_type": "markdown",
   "id": "730ecfc3",
   "metadata": {
    "papermill": {
     "duration": 0.038644,
     "end_time": "2023-05-16T11:26:52.087913",
     "exception": false,
     "start_time": "2023-05-16T11:26:52.049269",
     "status": "completed"
    },
    "tags": []
   },
   "source": [
    "- We can see that mostly A type of room get reserved\n",
    "- and L and P type of room not get booked"
   ]
  },
  {
   "cell_type": "markdown",
   "id": "c62d498c",
   "metadata": {
    "execution": {
     "iopub.execute_input": "2023-01-04T16:46:45.565920Z",
     "iopub.status.busy": "2023-01-04T16:46:45.565529Z",
     "iopub.status.idle": "2023-01-04T16:46:45.570724Z",
     "shell.execute_reply": "2023-01-04T16:46:45.569665Z",
     "shell.execute_reply.started": "2023-01-04T16:46:45.565891Z"
    },
    "papermill": {
     "duration": 0.038614,
     "end_time": "2023-05-16T11:26:52.165297",
     "exception": false,
     "start_time": "2023-05-16T11:26:52.126683",
     "status": "completed"
    },
    "tags": []
   },
   "source": [
    "## Lead time"
   ]
  },
  {
   "cell_type": "code",
   "execution_count": 34,
   "id": "40ad5a20",
   "metadata": {
    "execution": {
     "iopub.execute_input": "2023-05-16T11:26:52.245047Z",
     "iopub.status.busy": "2023-05-16T11:26:52.244564Z",
     "iopub.status.idle": "2023-05-16T11:26:53.225048Z",
     "shell.execute_reply": "2023-05-16T11:26:53.223935Z"
    },
    "papermill": {
     "duration": 1.024002,
     "end_time": "2023-05-16T11:26:53.228059",
     "exception": false,
     "start_time": "2023-05-16T11:26:52.204057",
     "status": "completed"
    },
    "tags": []
   },
   "outputs": [
    {
     "data": {
      "image/png": "[encoded data removed]",
      "text/plain": [
       "<Figure size 432x288 with 1 Axes>"
      ]
     },
     "metadata": {
      "needs_background": "light"
     },
     "output_type": "display_data"
    }
   ],
   "source": [
    "sns.distplot(df[\"lead_time\"])\n",
    "plt.show()"
   ]
  },
  {
   "cell_type": "markdown",
   "id": "a9e83c5c",
   "metadata": {
    "papermill": {
     "duration": 0.040755,
     "end_time": "2023-05-16T11:26:53.309091",
     "exception": false,
     "start_time": "2023-05-16T11:26:53.268336",
     "status": "completed"
    },
    "tags": []
   },
   "source": [
    "We can see most of the leading time is between 0-200"
   ]
  },
  {
   "cell_type": "markdown",
   "id": "e20662e2",
   "metadata": {
    "papermill": {
     "duration": 0.038506,
     "end_time": "2023-05-16T11:26:53.388039",
     "exception": false,
     "start_time": "2023-05-16T11:26:53.349533",
     "status": "completed"
    },
    "tags": []
   },
   "source": [
    "## Bivareante Analysis"
   ]
  },
  {
   "cell_type": "markdown",
   "id": "1859f01e",
   "metadata": {
    "papermill": {
     "duration": 0.038363,
     "end_time": "2023-05-16T11:26:53.465593",
     "exception": false,
     "start_time": "2023-05-16T11:26:53.427230",
     "status": "completed"
    },
    "tags": []
   },
   "source": [
    "## *Arrival date year and hotel*"
   ]
  },
  {
   "cell_type": "code",
   "execution_count": 35,
   "id": "bdc54f33",
   "metadata": {
    "execution": {
     "iopub.execute_input": "2023-05-16T11:26:53.549104Z",
     "iopub.status.busy": "2023-05-16T11:26:53.547384Z",
     "iopub.status.idle": "2023-05-16T11:26:53.871290Z",
     "shell.execute_reply": "2023-05-16T11:26:53.870108Z"
    },
    "papermill": {
     "duration": 0.369192,
     "end_time": "2023-05-16T11:26:53.874463",
     "exception": false,
     "start_time": "2023-05-16T11:26:53.505271",
     "status": "completed"
    },
    "tags": []
   },
   "outputs": [
    {
     "data": {
      "image/png": "[encoded data removed]",
      "text/plain": [
       "<Figure size 504x504 with 1 Axes>"
      ]
     },
     "metadata": {
      "needs_background": "light"
     },
     "output_type": "display_data"
    }
   ],
   "source": [
    "plt.figure(figsize=(7,7))\n",
    "sns.countplot(x='arrival_date_year',data=df,hue='hotel',palette=\"muted\")\n",
    "plt.xlabel('Year')\n",
    "plt.ylabel('No. of Bookings')\n",
    "plt.title('Hotel With booking year')\n",
    "plt.show()"
   ]
  },
  {
   "cell_type": "markdown",
   "id": "08e589aa",
   "metadata": {
    "papermill": {
     "duration": 0.039384,
     "end_time": "2023-05-16T11:26:53.953136",
     "exception": false,
     "start_time": "2023-05-16T11:26:53.913752",
     "status": "completed"
    },
    "tags": []
   },
   "source": [
    "## *How many hotel room canceled after booking ?*"
   ]
  },
  {
   "cell_type": "code",
   "execution_count": 36,
   "id": "1717da34",
   "metadata": {
    "execution": {
     "iopub.execute_input": "2023-05-16T11:26:54.035471Z",
     "iopub.status.busy": "2023-05-16T11:26:54.035025Z",
     "iopub.status.idle": "2023-05-16T11:26:54.368853Z",
     "shell.execute_reply": "2023-05-16T11:26:54.367594Z"
    },
    "papermill": {
     "duration": 0.378574,
     "end_time": "2023-05-16T11:26:54.371673",
     "exception": false,
     "start_time": "2023-05-16T11:26:53.993099",
     "status": "completed"
    },
    "tags": []
   },
   "outputs": [
    {
     "data": {
      "image/png": "[encoded data removed]",
      "text/plain": [
       "<Figure size 576x576 with 1 Axes>"
      ]
     },
     "metadata": {
      "needs_background": "light"
     },
     "output_type": "display_data"
    }
   ],
   "source": [
    "plt.figure(figsize=(8,8))\n",
    "sns.countplot(data=df,x='hotel',hue='is_canceled',palette=\"cool_r\")\n",
    "plt.xlabel('Hotel')\n",
    "plt.ylabel('Cancel booking')\n",
    "plt.title(\"Hotel with cancel booking\")\n",
    "plt.show()"
   ]
  },
  {
   "cell_type": "markdown",
   "id": "85d3afbc",
   "metadata": {
    "papermill": {
     "duration": 0.039407,
     "end_time": "2023-05-16T11:26:54.450900",
     "exception": false,
     "start_time": "2023-05-16T11:26:54.411493",
     "status": "completed"
    },
    "tags": []
   },
   "source": [
    "## *How many booking cancel with respect to spl requests ?*"
   ]
  },
  {
   "cell_type": "code",
   "execution_count": 37,
   "id": "63471ab7",
   "metadata": {
    "execution": {
     "iopub.execute_input": "2023-05-16T11:26:54.533440Z",
     "iopub.status.busy": "2023-05-16T11:26:54.532215Z",
     "iopub.status.idle": "2023-05-16T11:26:54.769264Z",
     "shell.execute_reply": "2023-05-16T11:26:54.768065Z"
    },
    "papermill": {
     "duration": 0.281519,
     "end_time": "2023-05-16T11:26:54.772404",
     "exception": false,
     "start_time": "2023-05-16T11:26:54.490885",
     "status": "completed"
    },
    "tags": []
   },
   "outputs": [
    {
     "data": {
      "image/png": "[encoded data removed]",
      "text/plain": [
       "<Figure size 504x432 with 1 Axes>"
      ]
     },
     "metadata": {
      "needs_background": "light"
     },
     "output_type": "display_data"
    }
   ],
   "source": [
    "plt.figure(figsize=(7,6))\n",
    "sns.countplot(data=df,x='total_of_special_requests',hue='is_canceled',palette=\"ocean\")\n",
    "plt.xlabel('Sum of spl. request')\n",
    "plt.ylabel('Cancel booking')\n",
    "plt.title('Cancel booking and spl request')\n",
    "plt.show()"
   ]
  },
  {
   "cell_type": "markdown",
   "id": "09f3f628",
   "metadata": {
    "papermill": {
     "duration": 0.040022,
     "end_time": "2023-05-16T11:26:54.852664",
     "exception": false,
     "start_time": "2023-05-16T11:26:54.812642",
     "status": "completed"
    },
    "tags": []
   },
   "source": [
    "## *How many booking got cancelled with respect to deposit type ?*"
   ]
  },
  {
   "cell_type": "code",
   "execution_count": 38,
   "id": "3a32a4bc",
   "metadata": {
    "execution": {
     "iopub.execute_input": "2023-05-16T11:26:54.935052Z",
     "iopub.status.busy": "2023-05-16T11:26:54.934559Z",
     "iopub.status.idle": "2023-05-16T11:26:55.339985Z",
     "shell.execute_reply": "2023-05-16T11:26:55.338565Z"
    },
    "papermill": {
     "duration": 0.450273,
     "end_time": "2023-05-16T11:26:55.343119",
     "exception": false,
     "start_time": "2023-05-16T11:26:54.892846",
     "status": "completed"
    },
    "tags": []
   },
   "outputs": [
    {
     "data": {
      "image/png": "[encoded data removed]",
      "text/plain": [
       "<Figure size 720x648 with 1 Axes>"
      ]
     },
     "metadata": {
      "needs_background": "light"
     },
     "output_type": "display_data"
    }
   ],
   "source": [
    "plt.figure(figsize=(10,9))\n",
    "sns.countplot(x = 'deposit_type', data = df, hue = 'is_canceled',palette= 'prism_r')\n",
    "plt.xlabel('Deposit Type')\n",
    "plt.ylabel('Cancel booking')\n",
    "plt.title('Cancel booking and Deposit type')\n",
    "plt.show()"
   ]
  },
  {
   "cell_type": "code",
   "execution_count": 39,
   "id": "f4d341d0",
   "metadata": {
    "execution": {
     "iopub.execute_input": "2023-05-16T11:26:55.427059Z",
     "iopub.status.busy": "2023-05-16T11:26:55.426604Z",
     "iopub.status.idle": "2023-05-16T11:26:55.444137Z",
     "shell.execute_reply": "2023-05-16T11:26:55.442913Z"
    },
    "papermill": {
     "duration": 0.062383,
     "end_time": "2023-05-16T11:26:55.446973",
     "exception": false,
     "start_time": "2023-05-16T11:26:55.384590",
     "status": "completed"
    },
    "tags": []
   },
   "outputs": [
    {
     "data": {
      "text/plain": [
       "array(['BB', 'FB', 'HB', 'SC', 'Undefined'], dtype=object)"
      ]
     },
     "execution_count": 39,
     "metadata": {},
     "output_type": "execute_result"
    }
   ],
   "source": [
    "df[\"meal\"].unique()"
   ]
  },
  {
   "cell_type": "markdown",
   "id": "8a9d413a",
   "metadata": {
    "papermill": {
     "duration": 0.041724,
     "end_time": "2023-05-16T11:26:55.529102",
     "exception": false,
     "start_time": "2023-05-16T11:26:55.487378",
     "status": "completed"
    },
    "tags": []
   },
   "source": [
    "## *Which kind of meal provide in the hotel ?*"
   ]
  },
  {
   "cell_type": "code",
   "execution_count": 40,
   "id": "ea41d6b9",
   "metadata": {
    "execution": {
     "iopub.execute_input": "2023-05-16T11:26:55.612707Z",
     "iopub.status.busy": "2023-05-16T11:26:55.612270Z",
     "iopub.status.idle": "2023-05-16T11:26:56.107972Z",
     "shell.execute_reply": "2023-05-16T11:26:56.106376Z"
    },
    "papermill": {
     "duration": 0.540484,
     "end_time": "2023-05-16T11:26:56.110739",
     "exception": false,
     "start_time": "2023-05-16T11:26:55.570255",
     "status": "completed"
    },
    "tags": []
   },
   "outputs": [
    {
     "data": {
      "image/png": "[encoded data removed]",
      "text/plain": [
       "<Figure size 720x648 with 1 Axes>"
      ]
     },
     "metadata": {
      "needs_background": "light"
     },
     "output_type": "display_data"
    }
   ],
   "source": [
    "plt.figure(figsize=(10,9))\n",
    "sns.countplot(x = 'meal', data = df, hue = 'hotel',palette= 'dark')\n",
    "plt.xlabel('Meal')\n",
    "plt.ylabel(\"Hotel\")\n",
    "plt.title('meal and Hotel')\n",
    "plt.show()"
   ]
  },
  {
   "cell_type": "markdown",
   "id": "04bc4a78",
   "metadata": {
    "papermill": {
     "duration": 0.040679,
     "end_time": "2023-05-16T11:26:56.193012",
     "exception": false,
     "start_time": "2023-05-16T11:26:56.152333",
     "status": "completed"
    },
    "tags": []
   },
   "source": [
    "## *Which kind of marget segment with the cancelled booking ?*"
   ]
  },
  {
   "cell_type": "code",
   "execution_count": 41,
   "id": "1602b678",
   "metadata": {
    "execution": {
     "iopub.execute_input": "2023-05-16T11:26:56.279137Z",
     "iopub.status.busy": "2023-05-16T11:26:56.277899Z",
     "iopub.status.idle": "2023-05-16T11:26:56.813670Z",
     "shell.execute_reply": "2023-05-16T11:26:56.812422Z"
    },
    "papermill": {
     "duration": 0.580761,
     "end_time": "2023-05-16T11:26:56.816479",
     "exception": false,
     "start_time": "2023-05-16T11:26:56.235718",
     "status": "completed"
    },
    "tags": []
   },
   "outputs": [
    {
     "data": {
      "image/png": "[encoded data removed]",
      "text/plain": [
       "<Figure size 720x648 with 1 Axes>"
      ]
     },
     "metadata": {
      "needs_background": "light"
     },
     "output_type": "display_data"
    }
   ],
   "source": [
    "plt.figure(figsize=(10,9))\n",
    "sns.countplot(x = 'market_segment', data = df, hue = 'hotel',palette= 'bright')\n",
    "plt.xlabel('Market segment')\n",
    "plt.ylabel('Cancel booking')\n",
    "plt.title('Market segment and hotel')\n",
    "plt.show()"
   ]
  },
  {
   "cell_type": "markdown",
   "id": "7626b964",
   "metadata": {
    "papermill": {
     "duration": 0.04111,
     "end_time": "2023-05-16T11:26:56.899876",
     "exception": false,
     "start_time": "2023-05-16T11:26:56.858766",
     "status": "completed"
    },
    "tags": []
   },
   "source": [
    "## Which hotel have the disributon channel ?"
   ]
  },
  {
   "cell_type": "code",
   "execution_count": 42,
   "id": "4726fb54",
   "metadata": {
    "execution": {
     "iopub.execute_input": "2023-05-16T11:26:56.987936Z",
     "iopub.status.busy": "2023-05-16T11:26:56.986457Z",
     "iopub.status.idle": "2023-05-16T11:26:57.508214Z",
     "shell.execute_reply": "2023-05-16T11:26:57.506944Z"
    },
    "papermill": {
     "duration": 0.56795,
     "end_time": "2023-05-16T11:26:57.511045",
     "exception": false,
     "start_time": "2023-05-16T11:26:56.943095",
     "status": "completed"
    },
    "tags": []
   },
   "outputs": [
    {
     "data": {
      "image/png": "[encoded data removed]",
      "text/plain": [
       "<Figure size 504x432 with 1 Axes>"
      ]
     },
     "metadata": {
      "needs_background": "light"
     },
     "output_type": "display_data"
    }
   ],
   "source": [
    "plt.figure(figsize=(7,6))\n",
    "sns.countplot(data=df,x='hotel',hue='distribution_channel',palette=\"ocean\")\n",
    "plt.xlabel('Hotel')\n",
    "plt.ylabel('Disribution channel')\n",
    "plt.title('Hotel and Disribution channel')\n",
    "plt.show()"
   ]
  },
  {
   "cell_type": "markdown",
   "id": "991e41d1",
   "metadata": {
    "papermill": {
     "duration": 0.04235,
     "end_time": "2023-05-16T11:26:57.596024",
     "exception": false,
     "start_time": "2023-05-16T11:26:57.553674",
     "status": "completed"
    },
    "tags": []
   },
   "source": [
    "## What kind of room is assigned coresponding with hotel type ?\n"
   ]
  },
  {
   "cell_type": "code",
   "execution_count": 43,
   "id": "8a201610",
   "metadata": {
    "execution": {
     "iopub.execute_input": "2023-05-16T11:26:57.682373Z",
     "iopub.status.busy": "2023-05-16T11:26:57.681106Z",
     "iopub.status.idle": "2023-05-16T11:26:58.260030Z",
     "shell.execute_reply": "2023-05-16T11:26:58.258983Z"
    },
    "papermill": {
     "duration": 0.625524,
     "end_time": "2023-05-16T11:26:58.263431",
     "exception": false,
     "start_time": "2023-05-16T11:26:57.637907",
     "status": "completed"
    },
    "tags": []
   },
   "outputs": [
    {
     "data": {
      "image/png": "[encoded data removed]",
      "text/plain": [
       "<Figure size 504x432 with 1 Axes>"
      ]
     },
     "metadata": {
      "needs_background": "light"
     },
     "output_type": "display_data"
    }
   ],
   "source": [
    "plt.figure(figsize=(7,6))\n",
    "sns.countplot(data=df,x='assigned_room_type',hue='hotel')\n",
    "plt.xlabel('assigned_room_type')\n",
    "plt.ylabel('hotel')\n",
    "plt.title('Hotel and Assigned room type')\n",
    "plt.show()"
   ]
  },
  {
   "cell_type": "markdown",
   "id": "d008fec7",
   "metadata": {
    "papermill": {
     "duration": 0.056488,
     "end_time": "2023-05-16T11:26:58.365135",
     "exception": false,
     "start_time": "2023-05-16T11:26:58.308647",
     "status": "completed"
    },
    "tags": []
   },
   "source": [
    "___\n",
    "---"
   ]
  }
 ],
 "metadata": {
  "kernelspec": {
   "display_name": "Python 3",
   "language": "python",
   "name": "python3"
  },
  "language_info": {
   "codemirror_mode": {
    "name": "ipython",
    "version": 3
   },
   "file_extension": ".py",
   "mimetype": "text/x-python",
   "name": "python",
   "nbconvert_exporter": "python",
   "pygments_lexer": "ipython3",
   "version": "3.7.12"
  },
  "papermill": {
   "default_parameters": {},
   "duration": 35.627849,
   "end_time": "2023-05-16T11:26:59.239647",
   "environment_variables": {},
   "exception": null,
   "input_path": "__notebook__.ipynb",
   "output_path": "__notebook__.ipynb",
   "parameters": {},
   "start_time": "2023-05-16T11:26:23.611798",
   "version": "2.3.4"
  }
 },
 "nbformat": 4,
 "nbformat_minor": 5
}
